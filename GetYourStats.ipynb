{
  "nbformat": 4,
  "nbformat_minor": 0,
  "metadata": {
    "colab": {
      "name": "GetYourStats.ipynb",
      "provenance": [],
      "collapsed_sections": [],
      "mount_file_id": "1mCqvGd8f4Sx4HihpMa-plOIKuV1ps6AF",
      "authorship_tag": "ABX9TyOBLKTT8/gD4t7xuQpPr8c4",
      "include_colab_link": true
    },
    "kernelspec": {
      "name": "python3",
      "display_name": "Python 3"
    },
    "accelerator": "GPU"
  },
  "cells": [
    {
      "cell_type": "markdown",
      "metadata": {
        "id": "view-in-github",
        "colab_type": "text"
      },
      "source": [
        "<a href=\"https://colab.research.google.com/github/faizankshaikh/AmongUs_StatsChecker/blob/main/GetYourStats.ipynb\" target=\"_parent\"><img src=\"https://colab.research.google.com/assets/colab-badge.svg\" alt=\"Open In Colab\"/></a>"
      ]
    },
    {
      "cell_type": "markdown",
      "metadata": {
        "id": "y4ZemI8oBBCv"
      },
      "source": [
        "## 1. Install required libraries"
      ]
    },
    {
      "cell_type": "code",
      "metadata": {
        "id": "Tt6ZmI3Oqnhp",
        "outputId": "5cbceec8-53c1-4c73-8644-f7a27218c645",
        "colab": {
          "base_uri": "https://localhost:8080/",
          "height": 34
        }
      },
      "source": [
        "! pip install -q easyocr"
      ],
      "execution_count": 1,
      "outputs": [
        {
          "output_type": "stream",
          "text": [
            "\u001b[K     |████████████████████████████████| 48.9MB 59kB/s \n",
            "\u001b[?25h"
          ],
          "name": "stdout"
        }
      ]
    },
    {
      "cell_type": "code",
      "metadata": {
        "id": "Li74XE4Zvp74",
        "outputId": "44de2142-f4a8-4930-f726-3f01dc523361",
        "colab": {
          "base_uri": "https://localhost:8080/",
          "height": 34
        }
      },
      "source": [
        "! pip install -q pyngrok"
      ],
      "execution_count": 2,
      "outputs": [
        {
          "output_type": "stream",
          "text": [
            "  Building wheel for pyngrok (setup.py) ... \u001b[?25l\u001b[?25hdone\n"
          ],
          "name": "stdout"
        }
      ]
    },
    {
      "cell_type": "code",
      "metadata": {
        "id": "JIHu4Ytevp5M",
        "outputId": "74b79032-39ea-417f-f58e-b7810f3e6441",
        "colab": {
          "base_uri": "https://localhost:8080/",
          "height": 278
        }
      },
      "source": [
        "! pip install -q streamlit"
      ],
      "execution_count": 3,
      "outputs": [
        {
          "output_type": "stream",
          "text": [
            "\u001b[K     |████████████████████████████████| 7.4MB 5.4MB/s \n",
            "\u001b[K     |████████████████████████████████| 133kB 54.0MB/s \n",
            "\u001b[K     |████████████████████████████████| 102kB 14.9MB/s \n",
            "\u001b[K     |████████████████████████████████| 112kB 56.8MB/s \n",
            "\u001b[K     |████████████████████████████████| 163kB 53.1MB/s \n",
            "\u001b[K     |████████████████████████████████| 4.5MB 58.8MB/s \n",
            "\u001b[K     |████████████████████████████████| 6.7MB 53.2MB/s \n",
            "\u001b[K     |████████████████████████████████| 71kB 11.4MB/s \n",
            "\u001b[K     |████████████████████████████████| 71kB 10.8MB/s \n",
            "\u001b[K     |████████████████████████████████| 122kB 50.0MB/s \n",
            "\u001b[?25h  Building wheel for watchdog (setup.py) ... \u001b[?25l\u001b[?25hdone\n",
            "  Building wheel for blinker (setup.py) ... \u001b[?25l\u001b[?25hdone\n",
            "  Building wheel for pathtools (setup.py) ... \u001b[?25l\u001b[?25hdone\n",
            "\u001b[31mERROR: google-colab 1.0.0 has requirement ipykernel~=4.10, but you'll have ipykernel 5.3.4 which is incompatible.\u001b[0m\n",
            "\u001b[31mERROR: botocore 1.19.6 has requirement urllib3<1.26,>=1.25.4; python_version != \"3.4\", but you'll have urllib3 1.24.3 which is incompatible.\u001b[0m\n"
          ],
          "name": "stdout"
        }
      ]
    },
    {
      "cell_type": "markdown",
      "metadata": {
        "id": "Kw2EalTtBUfv"
      },
      "source": [
        "* **Note: Remember to restart the runtime before running the cells below. Also, make sure to use GPU runtime**"
      ]
    },
    {
      "cell_type": "markdown",
      "metadata": {
        "id": "WnsOkttKClO2"
      },
      "source": [
        "## 2. Setting up the system"
      ]
    },
    {
      "cell_type": "code",
      "metadata": {
        "id": "rPG5IdMKBzME",
        "outputId": "fd001e22-3d16-421c-b304-7a3fb771034e",
        "colab": {
          "base_uri": "https://localhost:8080/",
          "height": 121
        }
      },
      "source": [
        "! git clone https://github.com/faizankshaikh/AmongUs_StatsChecker.git"
      ],
      "execution_count": 1,
      "outputs": [
        {
          "output_type": "stream",
          "text": [
            "Cloning into 'AmongUs_StatsChecker'...\n",
            "remote: Enumerating objects: 25, done.\u001b[K\n",
            "remote: Counting objects: 100% (25/25), done.\u001b[K\n",
            "remote: Compressing objects: 100% (25/25), done.\u001b[K\n",
            "remote: Total 25 (delta 8), reused 0 (delta 0), pack-reused 0\u001b[K\n",
            "Unpacking objects: 100% (25/25), done.\n"
          ],
          "name": "stdout"
        }
      ]
    },
    {
      "cell_type": "code",
      "metadata": {
        "id": "533ng-FGIBxr"
      },
      "source": [
        "!mkdir processed_images"
      ],
      "execution_count": 2,
      "outputs": []
    },
    {
      "cell_type": "code",
      "metadata": {
        "id": "Ml_8QaEXC_ZV"
      },
      "source": [
        "data_dir = \"AmongUs_StatsChecker\""
      ],
      "execution_count": 3,
      "outputs": []
    },
    {
      "cell_type": "markdown",
      "metadata": {
        "id": "0Y2S4RyrE6Rz"
      },
      "source": [
        "## 3. Parsing a sample image"
      ]
    },
    {
      "cell_type": "code",
      "metadata": {
        "id": "1_V3ig6fq-V9"
      },
      "source": [
        "# import important libraries\n",
        "%matplotlib inline\n",
        "\n",
        "import os\n",
        "import cv2\n",
        "import easyocr\n",
        "import numpy as np\n",
        "import pandas as pd\n",
        "import matplotlib.pyplot as plt\n",
        "\n",
        "from glob import glob\n",
        "from scipy.stats import norm, percentileofscore"
      ],
      "execution_count": 4,
      "outputs": []
    },
    {
      "cell_type": "code",
      "metadata": {
        "id": "ZpDrMc4DFuc8",
        "outputId": "2a0b7fbf-8d09-4b4c-d4d5-96b6a79b72bb",
        "colab": {
          "base_uri": "https://localhost:8080/",
          "height": 52
        }
      },
      "source": [
        "reader = easyocr.Reader(['en']) "
      ],
      "execution_count": 5,
      "outputs": [
        {
          "output_type": "stream",
          "text": [
            "Downloading detection model, please wait. This may take several minutes depending upon your network connection.\n"
          ],
          "name": "stderr"
        },
        {
          "output_type": "stream",
          "text": [
            ""
          ],
          "name": "stdout"
        },
        {
          "output_type": "stream",
          "text": [
            "Downloading recognition model, please wait. This may take several minutes depending upon your network connection.\n"
          ],
          "name": "stderr"
        },
        {
          "output_type": "stream",
          "text": [
            ""
          ],
          "name": "stdout"
        }
      ]
    },
    {
      "cell_type": "markdown",
      "metadata": {
        "id": "qLFzxjLCG_xy"
      },
      "source": [
        "**Note: If you want to try your own image, upload it on colab and change the path below**"
      ]
    },
    {
      "cell_type": "code",
      "metadata": {
        "id": "tDYDCUxirBwi"
      },
      "source": [
        "user_name = \"bot_ff\"\n",
        "img_path = os.path.join(data_dir, 'bot_ff.jpeg')"
      ],
      "execution_count": 6,
      "outputs": []
    },
    {
      "cell_type": "code",
      "metadata": {
        "id": "OKRVZCYF7Dlt",
        "outputId": "66530d73-4994-4c50-a322-77a718cae637",
        "colab": {
          "base_uri": "https://localhost:8080/",
          "height": 257
        }
      },
      "source": [
        "img = cv2.imread(img_path)\n",
        "plt.imshow(img)"
      ],
      "execution_count": 7,
      "outputs": [
        {
          "output_type": "execute_result",
          "data": {
            "text/plain": [
              "<matplotlib.image.AxesImage at 0x7f197a458c18>"
            ]
          },
          "metadata": {
            "tags": []
          },
          "execution_count": 7
        },
        {
          "output_type": "display_data",
          "data": {
            "image/png": "[encoded data removed]",
            "text/plain": [
              "<Figure size 432x288 with 1 Axes>"
            ]
          },
          "metadata": {
            "tags": [],
            "needs_background": "light"
          }
        }
      ]
    },
    {
      "cell_type": "code",
      "metadata": {
        "id": "5Waj3ZeMQ3Sp",
        "cellView": "form"
      },
      "source": [
        "#@title // Preprocess the image\n",
        "gray = cv2.cvtColor(img, cv2.COLOR_BGR2GRAY)\n",
        "\n",
        "thresh_inv = cv2.threshold(gray, 0, 255, cv2.THRESH_OTSU)[1]\n",
        "\n",
        "# Blur the image\n",
        "blur = cv2.GaussianBlur(thresh_inv, (1, 1), 0)\n",
        "\n",
        "thresh = cv2.threshold(blur, 0, 255, cv2.THRESH_BINARY + cv2.THRESH_OTSU)[1]\n",
        "\n",
        "# find contours\n",
        "contours = cv2.findContours(thresh, cv2.RETR_EXTERNAL, cv2.CHAIN_APPROX_SIMPLE)[0]\n",
        "\n",
        "mask = np.ones(img.shape[:2], dtype=\"uint8\") * 255\n",
        "for c in contours:\n",
        "    # get the bounding rect\n",
        "    x, y, w, h = cv2.boundingRect(c)\n",
        "    if w * h > 0.2 * img.shape[0] * img.shape[1]:\n",
        "        cv2.rectangle(mask, (x, y), (x + w, y + h), (0, 0, 255), -1)\n",
        "\n",
        "res_final = cv2.bitwise_and(img, img, mask=cv2.bitwise_not(mask))\n",
        "mask_out = cv2.subtract(cv2.bitwise_not(mask), thresh_inv)\n",
        "\n",
        "def get_segment_crop(img, tol=0, mask=None):\n",
        "    if mask is None:\n",
        "        mask = img > tol\n",
        "    return img[np.ix_(mask.any(1), mask.any(0))]\n",
        "\n",
        "result = get_segment_crop(img, mask=cv2.bitwise_not(mask))\n",
        "\n",
        "width = 600\n",
        "height = 650\n",
        "dim = (width, height)\n",
        "\n",
        "# resize image\n",
        "result = cv2.resize(result, dim, interpolation=cv2.INTER_AREA)\n",
        "\n",
        "result = result[30:-30, int(0.666 * result.shape[1]) :]\n",
        "\n",
        "# cv2_imshow(result)\n",
        "cv2.imwrite(\"processed_images/\" + user_name + \".jpeg\", result);"
      ],
      "execution_count": 8,
      "outputs": []
    },
    {
      "cell_type": "code",
      "metadata": {
        "id": "q3AOV_q_RIwT",
        "outputId": "ab42f4d3-51d0-4c74-8227-bea338e5fad2",
        "colab": {
          "base_uri": "https://localhost:8080/",
          "height": 286
        }
      },
      "source": [
        "plt.imshow(plt.imread(\"processed_images/\" + user_name + \".jpeg\"))"
      ],
      "execution_count": 9,
      "outputs": [
        {
          "output_type": "execute_result",
          "data": {
            "text/plain": [
              "<matplotlib.image.AxesImage at 0x7f197a170668>"
            ]
          },
          "metadata": {
            "tags": []
          },
          "execution_count": 9
        },
        {
          "output_type": "display_data",
          "data": {
            "image/png": "[encoded data removed]",
            "text/plain": [
              "<Figure size 432x288 with 1 Axes>"
            ]
          },
          "metadata": {
            "tags": [],
            "needs_background": "light"
          }
        }
      ]
    },
    {
      "cell_type": "code",
      "metadata": {
        "id": "k2jmpEgCrDH8"
      },
      "source": [
        "# parse preprocessed image\n",
        "result = reader.readtext(\n",
        "    \"processed_images/\" + user_name + \".jpeg\",\n",
        "    decoder=\"greedy\",\n",
        "    detail=0,\n",
        "    mag_ratio=2.5,\n",
        "    text_threshold=0.6,\n",
        "    low_text=0.339\n",
        ")"
      ],
      "execution_count": 10,
      "outputs": []
    },
    {
      "cell_type": "code",
      "metadata": {
        "id": "Wu_4D0DHrFsJ",
        "outputId": "38838f86-8a72-476f-c03e-a9c070d0f3f3",
        "colab": {
          "base_uri": "https://localhost:8080/",
          "height": 52
        }
      },
      "source": [
        "stats = [img_path.rsplit('/')[-1].split(\".\")[0]]\n",
        "for r in result:\n",
        "    if r.isnumeric():\n",
        "        stats.append(int(r))\n",
        "\n",
        "stats, len(stats)"
      ],
      "execution_count": 11,
      "outputs": [
        {
          "output_type": "execute_result",
          "data": {
            "text/plain": [
              "(['bot_ff', 21, 7, 210, 30, 47, 18, 38, 7, 3, 19, 82, 101, 79, 2, 2, 6, 31, 3],\n",
              " 19)"
            ]
          },
          "metadata": {
            "tags": []
          },
          "execution_count": 11
        }
      ]
    },
    {
      "cell_type": "code",
      "metadata": {
        "id": "oCVIZnXjrHxQ"
      },
      "source": [
        "# check if all data is parsed\n",
        "assert len(stats) == 19"
      ],
      "execution_count": 12,
      "outputs": []
    },
    {
      "cell_type": "code",
      "metadata": {
        "id": "yznid6MqrJHx"
      },
      "source": [
        "df = pd.read_csv(os.path.join(data_dir, 'info.csv'))"
      ],
      "execution_count": 13,
      "outputs": []
    },
    {
      "cell_type": "code",
      "metadata": {
        "id": "5fPeHZz0rkkm"
      },
      "source": [
        "stats = stats + list(np.zeros(6, dtype='int'))\n",
        "df = df.append(pd.Series(stats, df.columns), ignore_index=True)"
      ],
      "execution_count": 14,
      "outputs": []
    },
    {
      "cell_type": "code",
      "metadata": {
        "id": "fua6-KPwIMZc",
        "outputId": "02ecfbd7-79fb-41e6-f89b-bc89ac881122",
        "colab": {
          "base_uri": "https://localhost:8080/",
          "height": 261
        }
      },
      "source": [
        "df.head()"
      ],
      "execution_count": 15,
      "outputs": [
        {
          "output_type": "execute_result",
          "data": {
            "text/html": [
              "<div>\n",
              "<style scoped>\n",
              "    .dataframe tbody tr th:only-of-type {\n",
              "        vertical-align: middle;\n",
              "    }\n",
              "\n",
              "    .dataframe tbody tr th {\n",
              "        vertical-align: top;\n",
              "    }\n",
              "\n",
              "    .dataframe thead th {\n",
              "        text-align: right;\n",
              "    }\n",
              "</style>\n",
              "<table border=\"1\" class=\"dataframe\">\n",
              "  <thead>\n",
              "    <tr style=\"text-align: right;\">\n",
              "      <th></th>\n",
              "      <th>Player Name</th>\n",
              "      <th>Bodies Reported</th>\n",
              "      <th>Emergencies Called</th>\n",
              "      <th>Tasks Completed</th>\n",
              "      <th>All Tasks Completed</th>\n",
              "      <th>Sabotages Fixed</th>\n",
              "      <th>Impostor Kills</th>\n",
              "      <th>Times Murdered</th>\n",
              "      <th>Times Ejected</th>\n",
              "      <th>Crewmate Streak</th>\n",
              "      <th>Times Impostor</th>\n",
              "      <th>Times Crewmate</th>\n",
              "      <th>Games Started</th>\n",
              "      <th>Games Finished</th>\n",
              "      <th>Impostor Vote Wins</th>\n",
              "      <th>Impostor Kill Wins</th>\n",
              "      <th>Impostor Sabotage Wins</th>\n",
              "      <th>Crewmate Vote Wins</th>\n",
              "      <th>Crewmate Task Wins</th>\n",
              "      <th>Tasks Completion Rate</th>\n",
              "      <th>Game completion rate</th>\n",
              "      <th>Impostor win rate</th>\n",
              "      <th>Crewmate win rate</th>\n",
              "      <th>Total win rate</th>\n",
              "      <th>Ejection Rate</th>\n",
              "    </tr>\n",
              "  </thead>\n",
              "  <tbody>\n",
              "    <tr>\n",
              "      <th>0</th>\n",
              "      <td>jd</td>\n",
              "      <td>58</td>\n",
              "      <td>16</td>\n",
              "      <td>364</td>\n",
              "      <td>37</td>\n",
              "      <td>116</td>\n",
              "      <td>71</td>\n",
              "      <td>49</td>\n",
              "      <td>41</td>\n",
              "      <td>0</td>\n",
              "      <td>44</td>\n",
              "      <td>177</td>\n",
              "      <td>221</td>\n",
              "      <td>200</td>\n",
              "      <td>11</td>\n",
              "      <td>16</td>\n",
              "      <td>1</td>\n",
              "      <td>116</td>\n",
              "      <td>1</td>\n",
              "      <td>16.742081</td>\n",
              "      <td>90.497738</td>\n",
              "      <td>63.636364</td>\n",
              "      <td>66.101695</td>\n",
              "      <td>65.610860</td>\n",
              "      <td>18.552036</td>\n",
              "    </tr>\n",
              "    <tr>\n",
              "      <th>1</th>\n",
              "      <td>sagar</td>\n",
              "      <td>35</td>\n",
              "      <td>43</td>\n",
              "      <td>418</td>\n",
              "      <td>47</td>\n",
              "      <td>154</td>\n",
              "      <td>55</td>\n",
              "      <td>59</td>\n",
              "      <td>35</td>\n",
              "      <td>0</td>\n",
              "      <td>31</td>\n",
              "      <td>195</td>\n",
              "      <td>226</td>\n",
              "      <td>210</td>\n",
              "      <td>6</td>\n",
              "      <td>10</td>\n",
              "      <td>1</td>\n",
              "      <td>122</td>\n",
              "      <td>3</td>\n",
              "      <td>20.796460</td>\n",
              "      <td>92.920354</td>\n",
              "      <td>54.838710</td>\n",
              "      <td>64.102564</td>\n",
              "      <td>62.831858</td>\n",
              "      <td>15.486726</td>\n",
              "    </tr>\n",
              "    <tr>\n",
              "      <th>2</th>\n",
              "      <td>ashok</td>\n",
              "      <td>1</td>\n",
              "      <td>1</td>\n",
              "      <td>61</td>\n",
              "      <td>7</td>\n",
              "      <td>9</td>\n",
              "      <td>13</td>\n",
              "      <td>11</td>\n",
              "      <td>11</td>\n",
              "      <td>4</td>\n",
              "      <td>12</td>\n",
              "      <td>25</td>\n",
              "      <td>37</td>\n",
              "      <td>36</td>\n",
              "      <td>2</td>\n",
              "      <td>0</td>\n",
              "      <td>1</td>\n",
              "      <td>18</td>\n",
              "      <td>0</td>\n",
              "      <td>18.918919</td>\n",
              "      <td>97.297297</td>\n",
              "      <td>25.000000</td>\n",
              "      <td>72.000000</td>\n",
              "      <td>56.756757</td>\n",
              "      <td>29.729730</td>\n",
              "    </tr>\n",
              "    <tr>\n",
              "      <th>3</th>\n",
              "      <td>sannata</td>\n",
              "      <td>22</td>\n",
              "      <td>8</td>\n",
              "      <td>249</td>\n",
              "      <td>21</td>\n",
              "      <td>67</td>\n",
              "      <td>36</td>\n",
              "      <td>45</td>\n",
              "      <td>33</td>\n",
              "      <td>7</td>\n",
              "      <td>28</td>\n",
              "      <td>156</td>\n",
              "      <td>184</td>\n",
              "      <td>172</td>\n",
              "      <td>4</td>\n",
              "      <td>4</td>\n",
              "      <td>0</td>\n",
              "      <td>96</td>\n",
              "      <td>0</td>\n",
              "      <td>11.413043</td>\n",
              "      <td>93.478261</td>\n",
              "      <td>28.571429</td>\n",
              "      <td>61.538462</td>\n",
              "      <td>56.521739</td>\n",
              "      <td>17.934783</td>\n",
              "    </tr>\n",
              "    <tr>\n",
              "      <th>4</th>\n",
              "      <td>vt</td>\n",
              "      <td>9</td>\n",
              "      <td>6</td>\n",
              "      <td>139</td>\n",
              "      <td>13</td>\n",
              "      <td>38</td>\n",
              "      <td>35</td>\n",
              "      <td>25</td>\n",
              "      <td>20</td>\n",
              "      <td>12</td>\n",
              "      <td>31</td>\n",
              "      <td>103</td>\n",
              "      <td>134</td>\n",
              "      <td>120</td>\n",
              "      <td>6</td>\n",
              "      <td>4</td>\n",
              "      <td>1</td>\n",
              "      <td>61</td>\n",
              "      <td>3</td>\n",
              "      <td>9.701493</td>\n",
              "      <td>89.552239</td>\n",
              "      <td>35.483871</td>\n",
              "      <td>62.135922</td>\n",
              "      <td>55.970149</td>\n",
              "      <td>14.925373</td>\n",
              "    </tr>\n",
              "  </tbody>\n",
              "</table>\n",
              "</div>"
            ],
            "text/plain": [
              "  Player Name  Bodies Reported  ...  Total win rate  Ejection Rate\n",
              "0          jd               58  ...       65.610860      18.552036\n",
              "1       sagar               35  ...       62.831858      15.486726\n",
              "2       ashok                1  ...       56.756757      29.729730\n",
              "3     sannata               22  ...       56.521739      17.934783\n",
              "4          vt                9  ...       55.970149      14.925373\n",
              "\n",
              "[5 rows x 25 columns]"
            ]
          },
          "metadata": {
            "tags": []
          },
          "execution_count": 15
        }
      ]
    },
    {
      "cell_type": "code",
      "metadata": {
        "id": "c0m9Im7_r0o8",
        "cellView": "form"
      },
      "source": [
        "#@title // Calculate Overall Stats\n",
        "df[\"Tasks Completion Rate\"] = df[\"All Tasks Completed\"] * 100 / df[\"Games Started\"]\n",
        "df[\"Game completion rate\"] = df[\"Games Finished\"] * 100 / df[\"Games Started\"]\n",
        "df[\"Impostor win rate\"] = (df[\"Impostor Vote Wins\"] + df[\"Impostor Kill Wins\"] + df[\"Impostor Sabotage Wins\"]) * 100 / df[\"Times Impostor\"]\n",
        "df[\"Crewmate win rate\"] = (df[\"Crewmate Vote Wins\"] + df[\"Crewmate Task Wins\"]) * 100 / df[\"Times Crewmate\"]\n",
        "df[\"Total win rate\"] = (df[\"Crewmate Vote Wins\"] + df[\"Crewmate Task Wins\"] + df[\"Impostor Vote Wins\"] + df[\"Impostor Kill Wins\"] + df[\"Impostor Sabotage Wins\"]) * 100 / df[\"Games Started\"]\n",
        "df[\"Ejection Rate\"] = df[\"Times Ejected\"] * 100 / df[\"Games Started\"]\n",
        "\n",
        "df.sort_values(\"Total win rate\", ascending=False, inplace=True)\n",
        "df.reset_index(drop=True, inplace=True)"
      ],
      "execution_count": 16,
      "outputs": []
    },
    {
      "cell_type": "code",
      "metadata": {
        "id": "unAKoZ7hsZeh",
        "outputId": "0983bb7a-6b39-43c1-83ea-f3f10d2452db",
        "colab": {
          "base_uri": "https://localhost:8080/",
          "height": 426
        }
      },
      "source": [
        "df[[\"Player Name\", \"Total win rate\", \"Games Started\", \"Tasks Completion Rate\", \"Ejection Rate\"]]"
      ],
      "execution_count": 17,
      "outputs": [
        {
          "output_type": "execute_result",
          "data": {
            "text/html": [
              "<div>\n",
              "<style scoped>\n",
              "    .dataframe tbody tr th:only-of-type {\n",
              "        vertical-align: middle;\n",
              "    }\n",
              "\n",
              "    .dataframe tbody tr th {\n",
              "        vertical-align: top;\n",
              "    }\n",
              "\n",
              "    .dataframe thead th {\n",
              "        text-align: right;\n",
              "    }\n",
              "</style>\n",
              "<table border=\"1\" class=\"dataframe\">\n",
              "  <thead>\n",
              "    <tr style=\"text-align: right;\">\n",
              "      <th></th>\n",
              "      <th>Player Name</th>\n",
              "      <th>Total win rate</th>\n",
              "      <th>Games Started</th>\n",
              "      <th>Tasks Completion Rate</th>\n",
              "      <th>Ejection Rate</th>\n",
              "    </tr>\n",
              "  </thead>\n",
              "  <tbody>\n",
              "    <tr>\n",
              "      <th>0</th>\n",
              "      <td>jd</td>\n",
              "      <td>65.610860</td>\n",
              "      <td>221</td>\n",
              "      <td>16.742081</td>\n",
              "      <td>18.552036</td>\n",
              "    </tr>\n",
              "    <tr>\n",
              "      <th>1</th>\n",
              "      <td>sagar</td>\n",
              "      <td>62.831858</td>\n",
              "      <td>226</td>\n",
              "      <td>20.796460</td>\n",
              "      <td>15.486726</td>\n",
              "    </tr>\n",
              "    <tr>\n",
              "      <th>2</th>\n",
              "      <td>ashok</td>\n",
              "      <td>56.756757</td>\n",
              "      <td>37</td>\n",
              "      <td>18.918919</td>\n",
              "      <td>29.729730</td>\n",
              "    </tr>\n",
              "    <tr>\n",
              "      <th>3</th>\n",
              "      <td>sannata</td>\n",
              "      <td>56.521739</td>\n",
              "      <td>184</td>\n",
              "      <td>11.413043</td>\n",
              "      <td>17.934783</td>\n",
              "    </tr>\n",
              "    <tr>\n",
              "      <th>4</th>\n",
              "      <td>vt</td>\n",
              "      <td>55.970149</td>\n",
              "      <td>134</td>\n",
              "      <td>9.701493</td>\n",
              "      <td>14.925373</td>\n",
              "    </tr>\n",
              "    <tr>\n",
              "      <th>5</th>\n",
              "      <td>seedhe_maut</td>\n",
              "      <td>54.128440</td>\n",
              "      <td>109</td>\n",
              "      <td>31.192661</td>\n",
              "      <td>22.018349</td>\n",
              "    </tr>\n",
              "    <tr>\n",
              "      <th>6</th>\n",
              "      <td>gamerzoner</td>\n",
              "      <td>54.022989</td>\n",
              "      <td>87</td>\n",
              "      <td>16.091954</td>\n",
              "      <td>8.045977</td>\n",
              "    </tr>\n",
              "    <tr>\n",
              "      <th>7</th>\n",
              "      <td>larry</td>\n",
              "      <td>53.363229</td>\n",
              "      <td>223</td>\n",
              "      <td>19.730942</td>\n",
              "      <td>21.973094</td>\n",
              "    </tr>\n",
              "    <tr>\n",
              "      <th>8</th>\n",
              "      <td>don</td>\n",
              "      <td>45.714286</td>\n",
              "      <td>35</td>\n",
              "      <td>14.285714</td>\n",
              "      <td>22.857143</td>\n",
              "    </tr>\n",
              "    <tr>\n",
              "      <th>9</th>\n",
              "      <td>situ</td>\n",
              "      <td>45.652174</td>\n",
              "      <td>92</td>\n",
              "      <td>8.695652</td>\n",
              "      <td>17.391304</td>\n",
              "    </tr>\n",
              "    <tr>\n",
              "      <th>10</th>\n",
              "      <td>bot_ff</td>\n",
              "      <td>43.564356</td>\n",
              "      <td>101</td>\n",
              "      <td>29.702970</td>\n",
              "      <td>6.930693</td>\n",
              "    </tr>\n",
              "    <tr>\n",
              "      <th>11</th>\n",
              "      <td>bot_ff</td>\n",
              "      <td>43.564356</td>\n",
              "      <td>101</td>\n",
              "      <td>29.702970</td>\n",
              "      <td>6.930693</td>\n",
              "    </tr>\n",
              "  </tbody>\n",
              "</table>\n",
              "</div>"
            ],
            "text/plain": [
              "    Player Name  Total win rate  ...  Tasks Completion Rate  Ejection Rate\n",
              "0            jd       65.610860  ...              16.742081      18.552036\n",
              "1         sagar       62.831858  ...              20.796460      15.486726\n",
              "2         ashok       56.756757  ...              18.918919      29.729730\n",
              "3       sannata       56.521739  ...              11.413043      17.934783\n",
              "4            vt       55.970149  ...               9.701493      14.925373\n",
              "5   seedhe_maut       54.128440  ...              31.192661      22.018349\n",
              "6    gamerzoner       54.022989  ...              16.091954       8.045977\n",
              "7         larry       53.363229  ...              19.730942      21.973094\n",
              "8           don       45.714286  ...              14.285714      22.857143\n",
              "9          situ       45.652174  ...               8.695652      17.391304\n",
              "10       bot_ff       43.564356  ...              29.702970       6.930693\n",
              "11       bot_ff       43.564356  ...              29.702970       6.930693\n",
              "\n",
              "[12 rows x 5 columns]"
            ]
          },
          "metadata": {
            "tags": []
          },
          "execution_count": 17
        }
      ]
    },
    {
      "cell_type": "code",
      "metadata": {
        "id": "4L91m9r1sZ1G",
        "cellView": "form",
        "outputId": "94d85409-77cf-494e-deea-e1a70408983c",
        "colab": {
          "base_uri": "https://localhost:8080/",
          "height": 453
        }
      },
      "source": [
        "#@title // Calculate Personal Stats\n",
        "row = df.loc[df[\"Player Name\"] == user_name]\n",
        "\n",
        "print(\"Info for Player\", row[\"Player Name\"].values[0])      \n",
        "print()\n",
        "print(\"Total win rate: {:.2f}%\".format(row[\"Total win rate\"].values[0]))\n",
        "print(\"Impostor win rate: {:.2f}%\".format(row[\"Impostor win rate\"].values[0]))\n",
        "print(\"Crewmate win rate: {:.2f}%\".format(row[\"Crewmate win rate\"].values[0]))\n",
        "print(\"All tasks completion rate: {:.2f}%\".format(row[\"Tasks Completion Rate\"].values[0]))\n",
        "print(\"---\\n\\n\")\n",
        "\n",
        "personal_winrate = row[\"Total win rate\"].values[0]\n",
        "\n",
        "mean, stdev = df[[\"Total win rate\"]].mean().values[0], df[[\"Total win rate\"]].std().values[0]\n",
        "\n",
        "fig, ax = plt.subplots(1)\n",
        "\n",
        "x = range(30, 81)\n",
        "y = norm.pdf(x, mean, stdev)\n",
        "ax.plot(x, y)\n",
        "ax.fill_between(x, 0, y, color=\"cyan\")\n",
        "ax.axvline(personal_winrate, color='red', linestyle='dashed', linewidth=1)\n",
        "ax.set_yticklabels([])\n",
        "ax.set_xlabel(\"Win Rate of Players\")\n",
        "\n",
        "plt.show()\n",
        "\n",
        "percentile = percentileofscore(df[[\"Total win rate\"]], personal_winrate)\n",
        "print(f\"You are better than {percentile:.0f}% of the players\")"
      ],
      "execution_count": 18,
      "outputs": [
        {
          "output_type": "stream",
          "text": [
            "Info for Player bot_ff\n",
            "\n",
            "Total win rate: 43.56%\n",
            "Impostor win rate: 52.63%\n",
            "Crewmate win rate: 41.46%\n",
            "All tasks completion rate: 29.70%\n",
            "---\n",
            "\n",
            "\n"
          ],
          "name": "stdout"
        },
        {
          "output_type": "display_data",
          "data": {
            "image/png": "[encoded data removed]",
            "text/plain": [
              "<Figure size 432x288 with 1 Axes>"
            ]
          },
          "metadata": {
            "tags": [],
            "needs_background": "light"
          }
        },
        {
          "output_type": "stream",
          "text": [
            "You are better than 12% of the players\n"
          ],
          "name": "stdout"
        }
      ]
    },
    {
      "cell_type": "markdown",
      "metadata": {
        "id": "9dEw065aIZyo"
      },
      "source": [
        "## 4. Host a temporary web service"
      ]
    },
    {
      "cell_type": "code",
      "metadata": {
        "id": "sBDwjCcnv7xm",
        "cellView": "form"
      },
      "source": [
        "#@title // Create Streamlit app\n",
        "\n",
        "import os\n",
        "import cv2\n",
        "import easyocr\n",
        "import numpy as np\n",
        "import pandas as pd\n",
        "import streamlit as st\n",
        "import matplotlib.pyplot as plt\n",
        "\n",
        "\n",
        "from glob import glob\n",
        "from enum import Enum\n",
        "from typing import Union\n",
        "from io import BytesIO, StringIO\n",
        "from scipy.stats import norm, percentileofscore\n",
        "\n",
        "st.set_option(\"deprecation.showfileUploaderEncoding\", False)\n",
        "\n",
        "FILE_TYPES = [\"png\", \"jpeg\", \"jpg\"]\n",
        "reader = easyocr.Reader([\"en\"])\n",
        "PAGE_CONFIG = {\"page_title\": \"StColab.io\", \"layout\": \"centered\"}\n",
        "st.beta_set_page_config(**PAGE_CONFIG)\n",
        "DATA_DIR = \"/content/AmongUs_StatsChecker\"\n",
        "\n",
        "\n",
        "class FileType(Enum):\n",
        "    IMAGE = \"Image\"\n",
        "\n",
        "\n",
        "def get_file_type(file: Union[BytesIO, StringIO]) -> FileType:\n",
        "    if isinstance(file, BytesIO):\n",
        "        return FileType.IMAGE\n",
        "\n",
        "\n",
        "def get_segment_crop(img, tol=0, mask=None):\n",
        "    if mask is None:\n",
        "        mask = img > tol\n",
        "    return img[np.ix_(mask.any(1), mask.any(0))]\n",
        "\n",
        "\n",
        "def preprocess_image(user_name, img_path):\n",
        "    img = cv2.imread(img_path)\n",
        "    gray = cv2.cvtColor(img, cv2.COLOR_BGR2GRAY)\n",
        "\n",
        "    thresh_inv = cv2.threshold(gray, 0, 255, cv2.THRESH_OTSU)[1]\n",
        "\n",
        "    # Blur the image\n",
        "    blur = cv2.GaussianBlur(thresh_inv, (1, 1), 0)\n",
        "\n",
        "    thresh = cv2.threshold(blur, 0, 255, cv2.THRESH_BINARY + cv2.THRESH_OTSU)[1]\n",
        "\n",
        "    # find contours\n",
        "    contours = cv2.findContours(thresh, cv2.RETR_EXTERNAL, cv2.CHAIN_APPROX_SIMPLE)[0]\n",
        "\n",
        "    mask = np.ones(img.shape[:2], dtype=\"uint8\") * 255\n",
        "    for c in contours:\n",
        "        # get the bounding rect\n",
        "        x, y, w, h = cv2.boundingRect(c)\n",
        "        if w * h > 0.2 * img.shape[0] * img.shape[1]:\n",
        "            cv2.rectangle(mask, (x, y), (x + w, y + h), (0, 0, 255), -1)\n",
        "\n",
        "    res_final = cv2.bitwise_and(img, img, mask=cv2.bitwise_not(mask))\n",
        "    mask_out = cv2.subtract(cv2.bitwise_not(mask), thresh_inv)\n",
        "\n",
        "    result = get_segment_crop(img, mask=cv2.bitwise_not(mask))\n",
        "\n",
        "    width = 600\n",
        "    height = 650\n",
        "    dim = (width, height)\n",
        "\n",
        "    # resize image\n",
        "    result = cv2.resize(result, dim, interpolation=cv2.INTER_AREA)\n",
        "\n",
        "    result = result[:-30, int(0.666 * result.shape[1]) :]\n",
        "\n",
        "    # cv2_imshow(result)\n",
        "    cv2.imwrite(\"processed_images/\" + user_name + \".jpeg\", result)\n",
        "\n",
        "\n",
        "def get_reply(user_name, img_path):\n",
        "\n",
        "    preprocess_image(user_name, img_path)\n",
        "\n",
        "    result = reader.readtext(\n",
        "        \"processed_images/\" + user_name + \".jpeg\",\n",
        "        decoder=\"greedy\",\n",
        "        detail=0,\n",
        "        text_threshold=0.6,\n",
        "        low_text=0.339,\n",
        "        mag_ratio=2.5\n",
        "    )\n",
        "\n",
        "    stats = [user_name]\n",
        "    for r in result:\n",
        "        if r.isnumeric():\n",
        "            stats.append(int(r))\n",
        "\n",
        "    assert len(stats) == 19\n",
        "    stats = stats + list(np.zeros(6, dtype=\"int\"))\n",
        "    df = pd.read_csv(os.path.join(DATA_DIR, \"info.csv\"))\n",
        "    df = df.append(pd.Series(stats, df.columns), ignore_index=True)\n",
        "\n",
        "    df[\"Tasks Completion Rate\"] = df[\"All Tasks Completed\"] * 100 / df[\"Games Started\"]\n",
        "    df[\"Game completion rate\"] = df[\"Games Finished\"] * 100 / df[\"Games Started\"]\n",
        "    df[\"Impostor win rate\"] = (\n",
        "        (\n",
        "            df[\"Impostor Vote Wins\"]\n",
        "            + df[\"Impostor Kill Wins\"]\n",
        "            + df[\"Impostor Sabotage Wins\"]\n",
        "        )\n",
        "        * 100\n",
        "        / df[\"Times Impostor\"]\n",
        "    )\n",
        "    df[\"Crewmate win rate\"] = (\n",
        "        (df[\"Crewmate Vote Wins\"] + df[\"Crewmate Task Wins\"])\n",
        "        * 100\n",
        "        / df[\"Times Crewmate\"]\n",
        "    )\n",
        "    df[\"Total win rate\"] = (\n",
        "        (\n",
        "            df[\"Crewmate Vote Wins\"]\n",
        "            + df[\"Crewmate Task Wins\"]\n",
        "            + df[\"Impostor Vote Wins\"]\n",
        "            + df[\"Impostor Kill Wins\"]\n",
        "            + df[\"Impostor Sabotage Wins\"]\n",
        "        )\n",
        "        * 100\n",
        "        / df[\"Games Started\"]\n",
        "    )\n",
        "    df[\"Ejection Rate\"] = df[\"Times Ejected\"] * 100 / df[\"Games Started\"]\n",
        "\n",
        "    df.sort_values(\"Total win rate\", ascending=False, inplace=True)\n",
        "    df.reset_index(drop=True, inplace=True)\n",
        "\n",
        "    row = df.loc[df[\"Player Name\"] == user_name]\n",
        "\n",
        "    \"Info for Player\", row[\"Player Name\"].values[0]\n",
        "\n",
        "    \"Total win rate:\", round(row[\"Total win rate\"].values[0], 2)\n",
        "\n",
        "    \"Impostor win rate:\", round(row[\"Impostor win rate\"].values[0], 2)\n",
        "\n",
        "    \"Crewmate win rate:\", round(row[\"Crewmate win rate\"].values[0], 2)\n",
        "\n",
        "    \"All tasks completion rate:\", round(row[\"Tasks Completion Rate\"].values[0], 2)\n",
        "\n",
        "    st.text(\"---\\n\\n\")\n",
        "\n",
        "    personal_winrate = row[\"Total win rate\"].values[0]\n",
        "\n",
        "    mean, stdev = (\n",
        "        df[[\"Total win rate\"]].mean().values[0],\n",
        "        df[[\"Total win rate\"]].std().values[0],\n",
        "    )\n",
        "\n",
        "    fig, ax = plt.subplots(1)\n",
        "\n",
        "    x = range(30, 81)\n",
        "    y = norm.pdf(x, mean, stdev)\n",
        "    ax.plot(x, y)\n",
        "    ax.fill_between(x, 0, y, color=\"cyan\")\n",
        "    ax.axvline(personal_winrate, color=\"red\", linestyle=\"dashed\", linewidth=1)\n",
        "    ax.set_yticklabels([])\n",
        "    ax.set_xlabel(\"Win Rate of Players\")\n",
        "\n",
        "    st.pyplot(fig, figsize=(10,10))\n",
        "\n",
        "    percentile = percentileofscore(df[[\"Total win rate\"]], personal_winrate)\n",
        "\n",
        "    \"You are better than\", round(percentile), \"% of the players\"\n",
        "\n",
        "\n",
        "def main():\n",
        "    st.title(\"Among Us Stats Checker\")\n",
        "    menu = [\"Home\", \"Leaderboard\", \"About\"]\n",
        "    choice = st.sidebar.selectbox(\"Menu\", menu)\n",
        "    if choice == \"Home\":\n",
        "        user_name = st.text_input(\"Username\", \"\")\n",
        "        file = st.file_uploader(\"Upload file\", type=FILE_TYPES)\n",
        "        show_file = st.empty()\n",
        "        if not file:\n",
        "            show_file.info(\"Please upload a file of type: \" + \", \".join(FILE_TYPES))\n",
        "            return\n",
        "\n",
        "        file_type = get_file_type(file)\n",
        "\n",
        "        img_path = user_name + \".jpeg\"\n",
        "\n",
        "        f = open(img_path, \"wb\")\n",
        "        f.write(file.getvalue())\n",
        "\n",
        "        file.close()\n",
        "        f.close()\n",
        "\n",
        "        get_reply(user_name, img_path)\n",
        "\n",
        "\n",
        "if __name__ == \"__main__\":\n",
        "    main()"
      ],
      "execution_count": 19,
      "outputs": []
    },
    {
      "cell_type": "code",
      "metadata": {
        "id": "eXvVM-Z9v8-w"
      },
      "source": [
        "!streamlit run app.py &>/dev/null&"
      ],
      "execution_count": 20,
      "outputs": []
    },
    {
      "cell_type": "code",
      "metadata": {
        "id": "PLfPrxc3wAg9",
        "cellView": "both",
        "outputId": "6b478834-adec-4cc9-cc2e-97847f65ff8e",
        "colab": {
          "base_uri": "https://localhost:8080/",
          "height": 298
        }
      },
      "source": [
        "#@title // Deploy the web service\n",
        "from pyngrok import ngrok\n",
        "\n",
        "public_url = ngrok.connect(port='8501');"
      ],
      "execution_count": 21,
      "outputs": [
        {
          "output_type": "stream",
          "text": [
            "2020-10-28 11:30:11.914 INFO    pyngrok.ngrok: Opening tunnel named: http-80-e17fcbd9-d7ba-4fd8-9e07-cbd63315e1bd\n"
          ],
          "name": "stderr"
        },
        {
          "output_type": "stream",
          "text": [
            ""
          ],
          "name": "stdout"
        },
        {
          "output_type": "stream",
          "text": [
            "2020-10-28 11:30:13.325 INFO    pyngrok.process.ngrok: t=2020-10-28T11:30:13+0000 lvl=info msg=\"no configuration paths supplied\"\n",
            "2020-10-28 11:30:13.328 INFO    pyngrok.process.ngrok: t=2020-10-28T11:30:13+0000 lvl=info msg=\"using configuration at default config path\" path=/root/.ngrok2/ngrok.yml\n",
            "2020-10-28 11:30:13.329 INFO    pyngrok.process.ngrok: t=2020-10-28T11:30:13+0000 lvl=info msg=\"open config file\" path=/root/.ngrok2/ngrok.yml err=nil\n",
            "2020-10-28 11:30:13.336 INFO    pyngrok.process.ngrok: t=2020-10-28T11:30:13+0000 lvl=info msg=\"starting web service\" obj=web addr=127.0.0.1:4040\n",
            "2020-10-28 11:30:13.640 INFO    pyngrok.process.ngrok: t=2020-10-28T11:30:13+0000 lvl=info msg=\"tunnel session started\" obj=tunnels.session\n",
            "2020-10-28 11:30:13.641 INFO    pyngrok.process.ngrok: t=2020-10-28T11:30:13+0000 lvl=info msg=\"client session established\" obj=csess id=67d671aeffdc\n",
            "2020-10-28 11:30:13.648 INFO    pyngrok.process.ngrok: t=2020-10-28T11:30:13+0000 lvl=info msg=start pg=/api/tunnels id=8fec673e67d3d22c\n",
            "2020-10-28 11:30:13.652 INFO    pyngrok.process.ngrok: t=2020-10-28T11:30:13+0000 lvl=info msg=end pg=/api/tunnels id=8fec673e67d3d22c status=200 dur=342.403µs\n",
            "2020-10-28 11:30:13.655 INFO    pyngrok.process.ngrok: t=2020-10-28T11:30:13+0000 lvl=info msg=start pg=/api/tunnels id=79d418f1cd9320ae\n",
            "2020-10-28 11:30:13.655 INFO    pyngrok.process.ngrok: t=2020-10-28T11:30:13+0000 lvl=info msg=end pg=/api/tunnels id=79d418f1cd9320ae status=200 dur=130.535µs\n",
            "2020-10-28 11:30:13.660 INFO    pyngrok.process.ngrok: t=2020-10-28T11:30:13+0000 lvl=info msg=start pg=/api/tunnels id=7452372beca16a31\n",
            "2020-10-28 11:30:13.797 INFO    pyngrok.process.ngrok: t=2020-10-28T11:30:13+0000 lvl=info msg=\"started tunnel\" obj=tunnels name=\"http-80-e17fcbd9-d7ba-4fd8-9e07-cbd63315e1bd (http)\" addr=http://localhost:80 url=http://1a16d74349e2.ngrok.io\n",
            "2020-10-28 11:30:13.799 INFO    pyngrok.process.ngrok: t=2020-10-28T11:30:13+0000 lvl=info msg=\"started tunnel\" obj=tunnels name=http-80-e17fcbd9-d7ba-4fd8-9e07-cbd63315e1bd addr=http://localhost:80 url=https://1a16d74349e2.ngrok.io\n",
            "2020-10-28 11:30:13.803 INFO    pyngrok.process.ngrok: t=2020-10-28T11:30:13+0000 lvl=info msg=end pg=/api/tunnels id=7452372beca16a31 status=201 dur=144.792666ms\n"
          ],
          "name": "stderr"
        }
      ]
    },
    {
      "cell_type": "code",
      "metadata": {
        "id": "9_ghSxzp9tJA",
        "outputId": "39b9de9a-da57-4a2a-8e12-f5e364c07f6c",
        "colab": {
          "base_uri": "https://localhost:8080/",
          "height": 34
        }
      },
      "source": [
        "public_url"
      ],
      "execution_count": 22,
      "outputs": [
        {
          "output_type": "execute_result",
          "data": {
            "text/plain": [
              "<NgrokTunnel: \"http://1a16d74349e2.ngrok.io\" -> \"http://localhost:80\">"
            ]
          },
          "metadata": {
            "tags": []
          },
          "execution_count": 22
        }
      ]
    },
    {
      "cell_type": "markdown",
      "metadata": {
        "id": "seOhvnRlNcNu"
      },
      "source": [
        "**Note: Open the hosted web service using above link**"
      ]
    }
  ]
}