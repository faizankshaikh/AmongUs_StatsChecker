{
  "nbformat": 4,
  "nbformat_minor": 0,
  "metadata": {
    "colab": {
      "name": "GetYourStats.ipynb",
      "provenance": [],
      "collapsed_sections": [],
      "mount_file_id": "1mCqvGd8f4Sx4HihpMa-plOIKuV1ps6AF",
      "authorship_tag": "ABX9TyNc6IwDVENiKsm2un+EKRIN",
      "include_colab_link": true
    },
    "kernelspec": {
      "name": "python3",
      "display_name": "Python 3"
    },
    "accelerator": "GPU"
  },
  "cells": [
    {
      "cell_type": "markdown",
      "metadata": {
        "id": "view-in-github",
        "colab_type": "text"
      },
      "source": [
        "<a href=\"https://colab.research.google.com/github/faizankshaikh/AmongUs_StatsChecker/blob/main/GetYourStats.ipynb\" target=\"_parent\"><img src=\"https://colab.research.google.com/assets/colab-badge.svg\" alt=\"Open In Colab\"/></a>"
      ]
    },
    {
      "cell_type": "markdown",
      "metadata": {
        "id": "y4ZemI8oBBCv"
      },
      "source": [
        "## 1. Install required libraries"
      ]
    },
    {
      "cell_type": "code",
      "metadata": {
        "id": "Tt6ZmI3Oqnhp",
        "outputId": "10a1726b-86bc-45d8-9c3e-493668f2d73a",
        "colab": {
          "base_uri": "https://localhost:8080/",
          "height": 471
        }
      },
      "source": [
        "! pip install easyocr"
      ],
      "execution_count": 1,
      "outputs": [
        {
          "output_type": "stream",
          "text": [
            "Collecting easyocr\n",
            "\u001b[?25l  Downloading https://files.pythonhosted.org/packages/5c/fd/e6712d06fc2b8599633096a76558967aa72bd39d5a7477aa256404af8adf/easyocr-1.1.9-py3-none-any.whl (48.4MB)\n",
            "\u001b[K     |████████████████████████████████| 48.4MB 63kB/s \n",
            "\u001b[?25hRequirement already satisfied: torchvision>=0.5 in /usr/local/lib/python3.6/dist-packages (from easyocr) (0.7.0+cu101)\n",
            "Requirement already satisfied: scipy in /usr/local/lib/python3.6/dist-packages (from easyocr) (1.4.1)\n",
            "Requirement already satisfied: numpy in /usr/local/lib/python3.6/dist-packages (from easyocr) (1.18.5)\n",
            "Requirement already satisfied: scikit-image in /usr/local/lib/python3.6/dist-packages (from easyocr) (0.16.2)\n",
            "Requirement already satisfied: Pillow in /usr/local/lib/python3.6/dist-packages (from easyocr) (7.0.0)\n",
            "Requirement already satisfied: torch in /usr/local/lib/python3.6/dist-packages (from easyocr) (1.6.0+cu101)\n",
            "Requirement already satisfied: opencv-python in /usr/local/lib/python3.6/dist-packages (from easyocr) (4.1.2.30)\n",
            "Collecting python-bidi\n",
            "  Downloading https://files.pythonhosted.org/packages/33/b0/f942d146a2f457233baaafd6bdf624eba8e0f665045b4abd69d1b62d097d/python_bidi-0.4.2-py2.py3-none-any.whl\n",
            "Requirement already satisfied: matplotlib!=3.0.0,>=2.0.0 in /usr/local/lib/python3.6/dist-packages (from scikit-image->easyocr) (3.2.2)\n",
            "Requirement already satisfied: imageio>=2.3.0 in /usr/local/lib/python3.6/dist-packages (from scikit-image->easyocr) (2.4.1)\n",
            "Requirement already satisfied: networkx>=2.0 in /usr/local/lib/python3.6/dist-packages (from scikit-image->easyocr) (2.5)\n",
            "Requirement already satisfied: PyWavelets>=0.4.0 in /usr/local/lib/python3.6/dist-packages (from scikit-image->easyocr) (1.1.1)\n",
            "Requirement already satisfied: future in /usr/local/lib/python3.6/dist-packages (from torch->easyocr) (0.16.0)\n",
            "Requirement already satisfied: six in /usr/local/lib/python3.6/dist-packages (from python-bidi->easyocr) (1.15.0)\n",
            "Requirement already satisfied: cycler>=0.10 in /usr/local/lib/python3.6/dist-packages (from matplotlib!=3.0.0,>=2.0.0->scikit-image->easyocr) (0.10.0)\n",
            "Requirement already satisfied: kiwisolver>=1.0.1 in /usr/local/lib/python3.6/dist-packages (from matplotlib!=3.0.0,>=2.0.0->scikit-image->easyocr) (1.2.0)\n",
            "Requirement already satisfied: pyparsing!=2.0.4,!=2.1.2,!=2.1.6,>=2.0.1 in /usr/local/lib/python3.6/dist-packages (from matplotlib!=3.0.0,>=2.0.0->scikit-image->easyocr) (2.4.7)\n",
            "Requirement already satisfied: python-dateutil>=2.1 in /usr/local/lib/python3.6/dist-packages (from matplotlib!=3.0.0,>=2.0.0->scikit-image->easyocr) (2.8.1)\n",
            "Requirement already satisfied: decorator>=4.3.0 in /usr/local/lib/python3.6/dist-packages (from networkx>=2.0->scikit-image->easyocr) (4.4.2)\n",
            "Installing collected packages: python-bidi, easyocr\n",
            "Successfully installed easyocr-1.1.9 python-bidi-0.4.2\n"
          ],
          "name": "stdout"
        }
      ]
    },
    {
      "cell_type": "code",
      "metadata": {
        "id": "Li74XE4Zvp74",
        "outputId": "9846e8ab-11d3-46b4-90ef-856a6b23ad58",
        "colab": {
          "base_uri": "https://localhost:8080/",
          "height": 208
        }
      },
      "source": [
        "! pip install pyngrok"
      ],
      "execution_count": 2,
      "outputs": [
        {
          "output_type": "stream",
          "text": [
            "Collecting pyngrok\n",
            "  Downloading https://files.pythonhosted.org/packages/87/93/09a09c5034fcef7cc956107a36beb4ba47924afeb70bea3626a3a4b76b77/pyngrok-4.1.13.tar.gz\n",
            "Requirement already satisfied: future in /usr/local/lib/python3.6/dist-packages (from pyngrok) (0.16.0)\n",
            "Requirement already satisfied: PyYAML in /usr/local/lib/python3.6/dist-packages (from pyngrok) (3.13)\n",
            "Building wheels for collected packages: pyngrok\n",
            "  Building wheel for pyngrok (setup.py) ... \u001b[?25l\u001b[?25hdone\n",
            "  Created wheel for pyngrok: filename=pyngrok-4.1.13-cp36-none-any.whl size=17053 sha256=717d72e17a8708f6734a20c155803f0ff2975d8234e1063689e39e276205945f\n",
            "  Stored in directory: /root/.cache/pip/wheels/96/02/88/faeae1a755924349309500c9a1d40d5d67df3dc4b4e0d2f5bd\n",
            "Successfully built pyngrok\n",
            "Installing collected packages: pyngrok\n",
            "Successfully installed pyngrok-4.1.13\n"
          ],
          "name": "stdout"
        }
      ]
    },
    {
      "cell_type": "code",
      "metadata": {
        "id": "JIHu4Ytevp5M",
        "outputId": "4a3f9bd3-2d90-43f2-a02b-eaa0bf148004",
        "colab": {
          "base_uri": "https://localhost:8080/",
          "height": 1000
        }
      },
      "source": [
        "! pip install streamlit"
      ],
      "execution_count": 3,
      "outputs": [
        {
          "output_type": "stream",
          "text": [
            "Collecting streamlit\n",
            "\u001b[?25l  Downloading https://files.pythonhosted.org/packages/5a/13/c738cf11d526ede46a326f14ede28141ce6a4c2e22cf69842d80fa6cd2a5/streamlit-0.68.0-py2.py3-none-any.whl (7.4MB)\n",
            "\u001b[K     |████████████████████████████████| 7.4MB 5.0MB/s \n",
            "\u001b[?25hRequirement already satisfied: pillow>=6.2.0 in /usr/local/lib/python3.6/dist-packages (from streamlit) (7.0.0)\n",
            "Collecting botocore>=1.13.44\n",
            "\u001b[?25l  Downloading https://files.pythonhosted.org/packages/2d/9e/afa41db0cd911869305bb783b9b021be67ea23c8b7b317caa46632dbf3cf/botocore-1.18.16-py2.py3-none-any.whl (6.7MB)\n",
            "\u001b[K     |████████████████████████████████| 6.7MB 49.5MB/s \n",
            "\u001b[?25hRequirement already satisfied: toml in /usr/local/lib/python3.6/dist-packages (from streamlit) (0.10.1)\n",
            "Requirement already satisfied: tornado>=5.0 in /usr/local/lib/python3.6/dist-packages (from streamlit) (5.1.1)\n",
            "Requirement already satisfied: altair>=3.2.0 in /usr/local/lib/python3.6/dist-packages (from streamlit) (4.1.0)\n",
            "Requirement already satisfied: requests in /usr/local/lib/python3.6/dist-packages (from streamlit) (2.23.0)\n",
            "Requirement already satisfied: pandas>=0.21.0 in /usr/local/lib/python3.6/dist-packages (from streamlit) (1.1.2)\n",
            "Requirement already satisfied: cachetools>=4.0 in /usr/local/lib/python3.6/dist-packages (from streamlit) (4.1.1)\n",
            "Collecting pydeck>=0.1.dev5\n",
            "\u001b[?25l  Downloading https://files.pythonhosted.org/packages/51/1e/296f4108bf357e684617a776ecaf06ee93b43e30c35996dfac1aa985aa6c/pydeck-0.5.0b1-py2.py3-none-any.whl (4.4MB)\n",
            "\u001b[K     |████████████████████████████████| 4.4MB 52.0MB/s \n",
            "\u001b[?25hCollecting watchdog\n",
            "\u001b[?25l  Downloading https://files.pythonhosted.org/packages/0e/06/121302598a4fc01aca942d937f4a2c33430b7181137b35758913a8db10ad/watchdog-0.10.3.tar.gz (94kB)\n",
            "\u001b[K     |████████████████████████████████| 102kB 13.2MB/s \n",
            "\u001b[?25hRequirement already satisfied: protobuf>=3.6.0 in /usr/local/lib/python3.6/dist-packages (from streamlit) (3.12.4)\n",
            "Collecting validators\n",
            "  Downloading https://files.pythonhosted.org/packages/41/4a/3360ff3cf2b4a1b9721ac1fbff5f84663f41047d9874b3aa1ac82e862c44/validators-0.18.1-py3-none-any.whl\n",
            "Collecting blinker\n",
            "\u001b[?25l  Downloading https://files.pythonhosted.org/packages/1b/51/e2a9f3b757eb802f61dc1f2b09c8c99f6eb01cf06416c0671253536517b6/blinker-1.4.tar.gz (111kB)\n",
            "\u001b[K     |████████████████████████████████| 112kB 37.7MB/s \n",
            "\u001b[?25hCollecting boto3\n",
            "\u001b[?25l  Downloading https://files.pythonhosted.org/packages/3f/87/31810f044f2dd2101f2ecd85c5539bbddef4cff47df39eb0be895cc23af4/boto3-1.15.16-py2.py3-none-any.whl (129kB)\n",
            "\u001b[K     |████████████████████████████████| 133kB 47.1MB/s \n",
            "\u001b[?25hCollecting enum-compat\n",
            "  Downloading https://files.pythonhosted.org/packages/55/ae/467bc4509246283bb59746e21a1a2f5a8aecbef56b1fa6eaca78cd438c8b/enum_compat-0.0.3-py3-none-any.whl\n",
            "Requirement already satisfied: pyarrow in /usr/local/lib/python3.6/dist-packages (from streamlit) (0.14.1)\n",
            "Requirement already satisfied: astor in /usr/local/lib/python3.6/dist-packages (from streamlit) (0.8.1)\n",
            "Requirement already satisfied: packaging in /usr/local/lib/python3.6/dist-packages (from streamlit) (20.4)\n",
            "Collecting base58\n",
            "  Downloading https://files.pythonhosted.org/packages/3c/03/58572025c77b9e6027155b272a1b96298e711cd4f95c24967f7137ab0c4b/base58-2.0.1-py3-none-any.whl\n",
            "Requirement already satisfied: numpy in /usr/local/lib/python3.6/dist-packages (from streamlit) (1.18.5)\n",
            "Requirement already satisfied: click>=7.0 in /usr/local/lib/python3.6/dist-packages (from streamlit) (7.1.2)\n",
            "Requirement already satisfied: python-dateutil in /usr/local/lib/python3.6/dist-packages (from streamlit) (2.8.1)\n",
            "Requirement already satisfied: tzlocal in /usr/local/lib/python3.6/dist-packages (from streamlit) (1.5.1)\n",
            "Requirement already satisfied: urllib3<1.26,>=1.20; python_version != \"3.4\" in /usr/local/lib/python3.6/dist-packages (from botocore>=1.13.44->streamlit) (1.24.3)\n",
            "Collecting jmespath<1.0.0,>=0.7.1\n",
            "  Downloading https://files.pythonhosted.org/packages/07/cb/5f001272b6faeb23c1c9e0acc04d48eaaf5c862c17709d20e3469c6e0139/jmespath-0.10.0-py2.py3-none-any.whl\n",
            "Requirement already satisfied: entrypoints in /usr/local/lib/python3.6/dist-packages (from altair>=3.2.0->streamlit) (0.3)\n",
            "Requirement already satisfied: jinja2 in /usr/local/lib/python3.6/dist-packages (from altair>=3.2.0->streamlit) (2.11.2)\n",
            "Requirement already satisfied: toolz in /usr/local/lib/python3.6/dist-packages (from altair>=3.2.0->streamlit) (0.11.1)\n",
            "Requirement already satisfied: jsonschema in /usr/local/lib/python3.6/dist-packages (from altair>=3.2.0->streamlit) (2.6.0)\n",
            "Requirement already satisfied: certifi>=2017.4.17 in /usr/local/lib/python3.6/dist-packages (from requests->streamlit) (2020.6.20)\n",
            "Requirement already satisfied: idna<3,>=2.5 in /usr/local/lib/python3.6/dist-packages (from requests->streamlit) (2.10)\n",
            "Requirement already satisfied: chardet<4,>=3.0.2 in /usr/local/lib/python3.6/dist-packages (from requests->streamlit) (3.0.4)\n",
            "Requirement already satisfied: pytz>=2017.2 in /usr/local/lib/python3.6/dist-packages (from pandas>=0.21.0->streamlit) (2018.9)\n",
            "Requirement already satisfied: traitlets>=4.3.2 in /usr/local/lib/python3.6/dist-packages (from pydeck>=0.1.dev5->streamlit) (4.3.3)\n",
            "Requirement already satisfied: ipywidgets>=7.0.0 in /usr/local/lib/python3.6/dist-packages (from pydeck>=0.1.dev5->streamlit) (7.5.1)\n",
            "Collecting ipykernel>=5.1.2; python_version >= \"3.4\"\n",
            "\u001b[?25l  Downloading https://files.pythonhosted.org/packages/52/19/c2812690d8b340987eecd2cbc18549b1d130b94c5d97fcbe49f5f8710edf/ipykernel-5.3.4-py3-none-any.whl (120kB)\n",
            "\u001b[K     |████████████████████████████████| 122kB 59.8MB/s \n",
            "\u001b[?25hCollecting pathtools>=0.1.1\n",
            "  Downloading https://files.pythonhosted.org/packages/e7/7f/470d6fcdf23f9f3518f6b0b76be9df16dcc8630ad409947f8be2eb0ed13a/pathtools-0.1.2.tar.gz\n",
            "Requirement already satisfied: six>=1.9 in /usr/local/lib/python3.6/dist-packages (from protobuf>=3.6.0->streamlit) (1.15.0)\n",
            "Requirement already satisfied: setuptools in /usr/local/lib/python3.6/dist-packages (from protobuf>=3.6.0->streamlit) (50.3.0)\n",
            "Requirement already satisfied: decorator>=3.4.0 in /usr/local/lib/python3.6/dist-packages (from validators->streamlit) (4.4.2)\n",
            "Collecting s3transfer<0.4.0,>=0.3.0\n",
            "\u001b[?25l  Downloading https://files.pythonhosted.org/packages/69/79/e6afb3d8b0b4e96cefbdc690f741d7dd24547ff1f94240c997a26fa908d3/s3transfer-0.3.3-py2.py3-none-any.whl (69kB)\n",
            "\u001b[K     |████████████████████████████████| 71kB 10.4MB/s \n",
            "\u001b[?25hRequirement already satisfied: pyparsing>=2.0.2 in /usr/local/lib/python3.6/dist-packages (from packaging->streamlit) (2.4.7)\n",
            "Requirement already satisfied: MarkupSafe>=0.23 in /usr/local/lib/python3.6/dist-packages (from jinja2->altair>=3.2.0->streamlit) (1.1.1)\n",
            "Requirement already satisfied: ipython-genutils in /usr/local/lib/python3.6/dist-packages (from traitlets>=4.3.2->pydeck>=0.1.dev5->streamlit) (0.2.0)\n",
            "Requirement already satisfied: ipython>=4.0.0; python_version >= \"3.3\" in /usr/local/lib/python3.6/dist-packages (from ipywidgets>=7.0.0->pydeck>=0.1.dev5->streamlit) (5.5.0)\n",
            "Requirement already satisfied: nbformat>=4.2.0 in /usr/local/lib/python3.6/dist-packages (from ipywidgets>=7.0.0->pydeck>=0.1.dev5->streamlit) (5.0.7)\n",
            "Requirement already satisfied: widgetsnbextension~=3.5.0 in /usr/local/lib/python3.6/dist-packages (from ipywidgets>=7.0.0->pydeck>=0.1.dev5->streamlit) (3.5.1)\n",
            "Requirement already satisfied: jupyter-client in /usr/local/lib/python3.6/dist-packages (from ipykernel>=5.1.2; python_version >= \"3.4\"->pydeck>=0.1.dev5->streamlit) (5.3.5)\n",
            "Requirement already satisfied: pexpect; sys_platform != \"win32\" in /usr/local/lib/python3.6/dist-packages (from ipython>=4.0.0; python_version >= \"3.3\"->ipywidgets>=7.0.0->pydeck>=0.1.dev5->streamlit) (4.8.0)\n",
            "Requirement already satisfied: simplegeneric>0.8 in /usr/local/lib/python3.6/dist-packages (from ipython>=4.0.0; python_version >= \"3.3\"->ipywidgets>=7.0.0->pydeck>=0.1.dev5->streamlit) (0.8.1)\n",
            "Requirement already satisfied: pickleshare in /usr/local/lib/python3.6/dist-packages (from ipython>=4.0.0; python_version >= \"3.3\"->ipywidgets>=7.0.0->pydeck>=0.1.dev5->streamlit) (0.7.5)\n",
            "Requirement already satisfied: pygments in /usr/local/lib/python3.6/dist-packages (from ipython>=4.0.0; python_version >= \"3.3\"->ipywidgets>=7.0.0->pydeck>=0.1.dev5->streamlit) (2.6.1)\n",
            "Requirement already satisfied: prompt-toolkit<2.0.0,>=1.0.4 in /usr/local/lib/python3.6/dist-packages (from ipython>=4.0.0; python_version >= \"3.3\"->ipywidgets>=7.0.0->pydeck>=0.1.dev5->streamlit) (1.0.18)\n",
            "Requirement already satisfied: jupyter-core in /usr/local/lib/python3.6/dist-packages (from nbformat>=4.2.0->ipywidgets>=7.0.0->pydeck>=0.1.dev5->streamlit) (4.6.3)\n",
            "Requirement already satisfied: notebook>=4.4.1 in /usr/local/lib/python3.6/dist-packages (from widgetsnbextension~=3.5.0->ipywidgets>=7.0.0->pydeck>=0.1.dev5->streamlit) (5.3.1)\n",
            "Requirement already satisfied: pyzmq>=13 in /usr/local/lib/python3.6/dist-packages (from jupyter-client->ipykernel>=5.1.2; python_version >= \"3.4\"->pydeck>=0.1.dev5->streamlit) (19.0.2)\n",
            "Requirement already satisfied: ptyprocess>=0.5 in /usr/local/lib/python3.6/dist-packages (from pexpect; sys_platform != \"win32\"->ipython>=4.0.0; python_version >= \"3.3\"->ipywidgets>=7.0.0->pydeck>=0.1.dev5->streamlit) (0.6.0)\n",
            "Requirement already satisfied: wcwidth in /usr/local/lib/python3.6/dist-packages (from prompt-toolkit<2.0.0,>=1.0.4->ipython>=4.0.0; python_version >= \"3.3\"->ipywidgets>=7.0.0->pydeck>=0.1.dev5->streamlit) (0.2.5)\n",
            "Requirement already satisfied: terminado>=0.8.1 in /usr/local/lib/python3.6/dist-packages (from notebook>=4.4.1->widgetsnbextension~=3.5.0->ipywidgets>=7.0.0->pydeck>=0.1.dev5->streamlit) (0.9.1)\n",
            "Requirement already satisfied: nbconvert in /usr/local/lib/python3.6/dist-packages (from notebook>=4.4.1->widgetsnbextension~=3.5.0->ipywidgets>=7.0.0->pydeck>=0.1.dev5->streamlit) (5.6.1)\n",
            "Requirement already satisfied: Send2Trash in /usr/local/lib/python3.6/dist-packages (from notebook>=4.4.1->widgetsnbextension~=3.5.0->ipywidgets>=7.0.0->pydeck>=0.1.dev5->streamlit) (1.5.0)\n",
            "Requirement already satisfied: mistune<2,>=0.8.1 in /usr/local/lib/python3.6/dist-packages (from nbconvert->notebook>=4.4.1->widgetsnbextension~=3.5.0->ipywidgets>=7.0.0->pydeck>=0.1.dev5->streamlit) (0.8.4)\n",
            "Requirement already satisfied: defusedxml in /usr/local/lib/python3.6/dist-packages (from nbconvert->notebook>=4.4.1->widgetsnbextension~=3.5.0->ipywidgets>=7.0.0->pydeck>=0.1.dev5->streamlit) (0.6.0)\n",
            "Requirement already satisfied: pandocfilters>=1.4.1 in /usr/local/lib/python3.6/dist-packages (from nbconvert->notebook>=4.4.1->widgetsnbextension~=3.5.0->ipywidgets>=7.0.0->pydeck>=0.1.dev5->streamlit) (1.4.2)\n",
            "Requirement already satisfied: bleach in /usr/local/lib/python3.6/dist-packages (from nbconvert->notebook>=4.4.1->widgetsnbextension~=3.5.0->ipywidgets>=7.0.0->pydeck>=0.1.dev5->streamlit) (3.2.1)\n",
            "Requirement already satisfied: testpath in /usr/local/lib/python3.6/dist-packages (from nbconvert->notebook>=4.4.1->widgetsnbextension~=3.5.0->ipywidgets>=7.0.0->pydeck>=0.1.dev5->streamlit) (0.4.4)\n",
            "Requirement already satisfied: webencodings in /usr/local/lib/python3.6/dist-packages (from bleach->nbconvert->notebook>=4.4.1->widgetsnbextension~=3.5.0->ipywidgets>=7.0.0->pydeck>=0.1.dev5->streamlit) (0.5.1)\n",
            "Building wheels for collected packages: watchdog, blinker, pathtools\n",
            "  Building wheel for watchdog (setup.py) ... \u001b[?25l\u001b[?25hdone\n",
            "  Created wheel for watchdog: filename=watchdog-0.10.3-cp36-none-any.whl size=73873 sha256=bed1fdd107b785ee7352439a282ca145d8cc0ceb4bf84b1df7fd6c226f7d791b\n",
            "  Stored in directory: /root/.cache/pip/wheels/a8/1d/38/2c19bb311f67cc7b4d07a2ec5ea36ab1a0a0ea50db994a5bc7\n",
            "  Building wheel for blinker (setup.py) ... \u001b[?25l\u001b[?25hdone\n",
            "  Created wheel for blinker: filename=blinker-1.4-cp36-none-any.whl size=13450 sha256=45560f9717c4e3162cddff6e46aeedd87669ae7c93ff89f838de6835f6b14d92\n",
            "  Stored in directory: /root/.cache/pip/wheels/92/a0/00/8690a57883956a301d91cf4ec999cc0b258b01e3f548f86e89\n",
            "  Building wheel for pathtools (setup.py) ... \u001b[?25l\u001b[?25hdone\n",
            "  Created wheel for pathtools: filename=pathtools-0.1.2-cp36-none-any.whl size=8785 sha256=149f8b4afb61446181c4cdebf4c8e10b25c9daea51388f3800dbeec85572bd72\n",
            "  Stored in directory: /root/.cache/pip/wheels/0b/04/79/c3b0c3a0266a3cb4376da31e5bfe8bba0c489246968a68e843\n",
            "Successfully built watchdog blinker pathtools\n",
            "\u001b[31mERROR: google-colab 1.0.0 has requirement ipykernel~=4.10, but you'll have ipykernel 5.3.4 which is incompatible.\u001b[0m\n",
            "Installing collected packages: jmespath, botocore, ipykernel, pydeck, pathtools, watchdog, validators, blinker, s3transfer, boto3, enum-compat, base58, streamlit\n",
            "  Found existing installation: ipykernel 4.10.1\n",
            "    Uninstalling ipykernel-4.10.1:\n",
            "      Successfully uninstalled ipykernel-4.10.1\n",
            "Successfully installed base58-2.0.1 blinker-1.4 boto3-1.15.16 botocore-1.18.16 enum-compat-0.0.3 ipykernel-5.3.4 jmespath-0.10.0 pathtools-0.1.2 pydeck-0.5.0b1 s3transfer-0.3.3 streamlit-0.68.0 validators-0.18.1 watchdog-0.10.3\n"
          ],
          "name": "stdout"
        },
        {
          "output_type": "display_data",
          "data": {
            "application/vnd.colab-display-data+json": {
              "pip_warning": {
                "packages": [
                  "ipykernel"
                ]
              }
            }
          },
          "metadata": {
            "tags": []
          }
        }
      ]
    },
    {
      "cell_type": "markdown",
      "metadata": {
        "id": "Kw2EalTtBUfv"
      },
      "source": [
        "* **Note: Remember to restart the runtime before running the cells below. Also, make sure to use GPU runtime**"
      ]
    },
    {
      "cell_type": "markdown",
      "metadata": {
        "id": "WnsOkttKClO2"
      },
      "source": [
        "## 2. Setting up the system"
      ]
    },
    {
      "cell_type": "code",
      "metadata": {
        "id": "rPG5IdMKBzME",
        "outputId": "7ae7eb03-d24e-4bc7-f8da-784f56f94f8b",
        "colab": {
          "base_uri": "https://localhost:8080/",
          "height": 121
        }
      },
      "source": [
        "! git clone https://github.com/faizankshaikh/AmongUs_StatsChecker.git"
      ],
      "execution_count": 1,
      "outputs": [
        {
          "output_type": "stream",
          "text": [
            "Cloning into 'AmongUs_StatsChecker'...\n",
            "remote: Enumerating objects: 12, done.\u001b[K\n",
            "remote: Counting objects: 100% (12/12), done.\u001b[K\n",
            "remote: Compressing objects: 100% (12/12), done.\u001b[K\n",
            "remote: Total 12 (delta 2), reused 0 (delta 0), pack-reused 0\u001b[K\n",
            "Unpacking objects: 100% (12/12), done.\n"
          ],
          "name": "stdout"
        }
      ]
    },
    {
      "cell_type": "code",
      "metadata": {
        "id": "533ng-FGIBxr"
      },
      "source": [
        "!mkdir processed_images"
      ],
      "execution_count": 2,
      "outputs": []
    },
    {
      "cell_type": "code",
      "metadata": {
        "id": "Ml_8QaEXC_ZV"
      },
      "source": [
        "data_dir = \"AmongUs_StatsChecker\""
      ],
      "execution_count": 3,
      "outputs": []
    },
    {
      "cell_type": "markdown",
      "metadata": {
        "id": "0Y2S4RyrE6Rz"
      },
      "source": [
        "## 3. Parsing a sample image"
      ]
    },
    {
      "cell_type": "code",
      "metadata": {
        "id": "1_V3ig6fq-V9"
      },
      "source": [
        "# import important libraries\n",
        "%matplotlib inline\n",
        "\n",
        "import os\n",
        "import cv2\n",
        "import easyocr\n",
        "import numpy as np\n",
        "import pandas as pd\n",
        "import matplotlib.pyplot as plt\n",
        "\n",
        "from glob import glob\n",
        "from scipy.stats import norm, percentileofscore"
      ],
      "execution_count": 4,
      "outputs": []
    },
    {
      "cell_type": "code",
      "metadata": {
        "id": "ZpDrMc4DFuc8",
        "outputId": "0fdf0bcd-fd47-4563-ed50-d36491e6c744",
        "colab": {
          "base_uri": "https://localhost:8080/",
          "height": 52
        }
      },
      "source": [
        "reader = easyocr.Reader(['en']) "
      ],
      "execution_count": 5,
      "outputs": [
        {
          "output_type": "stream",
          "text": [
            "Downloading detection model, please wait. This may take several minutes depending upon your network connection.\n"
          ],
          "name": "stderr"
        },
        {
          "output_type": "stream",
          "text": [
            ""
          ],
          "name": "stdout"
        },
        {
          "output_type": "stream",
          "text": [
            "Downloading recognition model, please wait. This may take several minutes depending upon your network connection.\n"
          ],
          "name": "stderr"
        },
        {
          "output_type": "stream",
          "text": [
            ""
          ],
          "name": "stdout"
        }
      ]
    },
    {
      "cell_type": "markdown",
      "metadata": {
        "id": "qLFzxjLCG_xy"
      },
      "source": [
        "**Note: If you want to try your own image, upload it on colab and change the path below**"
      ]
    },
    {
      "cell_type": "code",
      "metadata": {
        "id": "tDYDCUxirBwi"
      },
      "source": [
        "user_name = \"bot_ff\"\n",
        "img_path = os.path.join(data_dir, 'bot_ff.jpeg')"
      ],
      "execution_count": 6,
      "outputs": []
    },
    {
      "cell_type": "code",
      "metadata": {
        "id": "5Waj3ZeMQ3Sp"
      },
      "source": [
        "img = cv2.imread(img_path)\n",
        "gray = cv2.cvtColor(img, cv2.COLOR_BGR2GRAY)\n",
        "\n",
        "thresh_inv = cv2.threshold(gray, 0, 255, cv2.THRESH_OTSU)[1]\n",
        "\n",
        "# Blur the image\n",
        "blur = cv2.GaussianBlur(thresh_inv, (1, 1), 0)\n",
        "\n",
        "thresh = cv2.threshold(blur, 0, 255, cv2.THRESH_BINARY + cv2.THRESH_OTSU)[1]\n",
        "\n",
        "# find contours\n",
        "contours = cv2.findContours(thresh, cv2.RETR_EXTERNAL, cv2.CHAIN_APPROX_SIMPLE)[0]\n",
        "\n",
        "mask = np.ones(img.shape[:2], dtype=\"uint8\") * 255\n",
        "for c in contours:\n",
        "    # get the bounding rect\n",
        "    x, y, w, h = cv2.boundingRect(c)\n",
        "    if w * h > 0.2 * img.shape[0] * img.shape[1]:\n",
        "        cv2.rectangle(mask, (x, y), (x + w, y + h), (0, 0, 255), -1)\n",
        "\n",
        "res_final = cv2.bitwise_and(img, img, mask=cv2.bitwise_not(mask))\n",
        "mask_out = cv2.subtract(cv2.bitwise_not(mask), thresh_inv)\n",
        "\n",
        "def get_segment_crop(img, tol=0, mask=None):\n",
        "    if mask is None:\n",
        "        mask = img > tol\n",
        "    return img[np.ix_(mask.any(1), mask.any(0))]\n",
        "\n",
        "result = get_segment_crop(img, mask=cv2.bitwise_not(mask))\n",
        "\n",
        "width = 600\n",
        "height = 650\n",
        "dim = (width, height)\n",
        "\n",
        "# resize image\n",
        "result = cv2.resize(result, dim, interpolation=cv2.INTER_AREA)\n",
        "\n",
        "result = result[30:-30, int(0.666 * result.shape[1]) :]\n",
        "\n",
        "# cv2_imshow(result)\n",
        "cv2.imwrite(\"processed_images/\" + user_name + \".jpeg\", result);"
      ],
      "execution_count": 7,
      "outputs": []
    },
    {
      "cell_type": "code",
      "metadata": {
        "id": "q3AOV_q_RIwT",
        "outputId": "d9e08d26-d460-4df2-cb03-966d93ce4742",
        "colab": {
          "base_uri": "https://localhost:8080/",
          "height": 286
        }
      },
      "source": [
        "plt.imshow(plt.imread(\"processed_images/\" + user_name + \".jpeg\"))"
      ],
      "execution_count": 8,
      "outputs": [
        {
          "output_type": "execute_result",
          "data": {
            "text/plain": [
              "<matplotlib.image.AxesImage at 0x7f24fa9a7160>"
            ]
          },
          "metadata": {
            "tags": []
          },
          "execution_count": 8
        },
        {
          "output_type": "display_data",
          "data": {
            "image/png": "[encoded data removed]",
            "text/plain": [
              "<Figure size 432x288 with 1 Axes>"
            ]
          },
          "metadata": {
            "tags": [],
            "needs_background": "light"
          }
        }
      ]
    },
    {
      "cell_type": "code",
      "metadata": {
        "id": "k2jmpEgCrDH8"
      },
      "source": [
        "# parse preprocessed image\n",
        "result = reader.readtext(\n",
        "    \"processed_images/\" + user_name + \".jpeg\",\n",
        "    decoder=\"greedy\",\n",
        "    detail=0,\n",
        "    mag_ratio=2.5,\n",
        "    text_threshold=0.6,\n",
        "    low_text=0.339\n",
        ")"
      ],
      "execution_count": 9,
      "outputs": []
    },
    {
      "cell_type": "code",
      "metadata": {
        "id": "Wu_4D0DHrFsJ",
        "outputId": "9e9d5630-e90b-4c19-9e82-f479d488af32",
        "colab": {
          "base_uri": "https://localhost:8080/",
          "height": 52
        }
      },
      "source": [
        "stats = [img_path.rsplit('/')[-1].split(\".\")[0]]\n",
        "for r in result:\n",
        "    if r.isnumeric():\n",
        "        stats.append(int(r))\n",
        "\n",
        "stats, len(stats)"
      ],
      "execution_count": 10,
      "outputs": [
        {
          "output_type": "execute_result",
          "data": {
            "text/plain": [
              "(['bot_ff', 21, 7, 210, 30, 47, 18, 38, 7, 3, 19, 82, 101, 79, 2, 2, 6, 31, 3],\n",
              " 19)"
            ]
          },
          "metadata": {
            "tags": []
          },
          "execution_count": 10
        }
      ]
    },
    {
      "cell_type": "code",
      "metadata": {
        "id": "oCVIZnXjrHxQ"
      },
      "source": [
        "# check if all data is parsed\n",
        "assert len(stats) == 19"
      ],
      "execution_count": 11,
      "outputs": []
    },
    {
      "cell_type": "code",
      "metadata": {
        "id": "yznid6MqrJHx"
      },
      "source": [
        "df = pd.read_csv(os.path.join(data_dir, 'info.csv'))"
      ],
      "execution_count": 12,
      "outputs": []
    },
    {
      "cell_type": "code",
      "metadata": {
        "id": "5fPeHZz0rkkm"
      },
      "source": [
        "stats = stats + list(np.zeros(6, dtype='int'))\n",
        "df = df.append(pd.Series(stats, df.columns), ignore_index=True)"
      ],
      "execution_count": 13,
      "outputs": []
    },
    {
      "cell_type": "code",
      "metadata": {
        "id": "fua6-KPwIMZc",
        "outputId": "014c843e-a50f-49ae-e40a-a8e26a5ae33d",
        "colab": {
          "base_uri": "https://localhost:8080/",
          "height": 261
        }
      },
      "source": [
        "df.head()"
      ],
      "execution_count": 14,
      "outputs": [
        {
          "output_type": "execute_result",
          "data": {
            "text/html": [
              "<div>\n",
              "<style scoped>\n",
              "    .dataframe tbody tr th:only-of-type {\n",
              "        vertical-align: middle;\n",
              "    }\n",
              "\n",
              "    .dataframe tbody tr th {\n",
              "        vertical-align: top;\n",
              "    }\n",
              "\n",
              "    .dataframe thead th {\n",
              "        text-align: right;\n",
              "    }\n",
              "</style>\n",
              "<table border=\"1\" class=\"dataframe\">\n",
              "  <thead>\n",
              "    <tr style=\"text-align: right;\">\n",
              "      <th></th>\n",
              "      <th>Player Name</th>\n",
              "      <th>Bodies Reported</th>\n",
              "      <th>Emergencies Called</th>\n",
              "      <th>Tasks Completed</th>\n",
              "      <th>All Tasks Completed</th>\n",
              "      <th>Sabotages Fixed</th>\n",
              "      <th>Impostor Kills</th>\n",
              "      <th>Times Murdered</th>\n",
              "      <th>Times Ejected</th>\n",
              "      <th>Crewmate Streak</th>\n",
              "      <th>Times Impostor</th>\n",
              "      <th>Times Crewmate</th>\n",
              "      <th>Games Started</th>\n",
              "      <th>Games Finished</th>\n",
              "      <th>Impostor Vote Wins</th>\n",
              "      <th>Impostor Kill Wins</th>\n",
              "      <th>Impostor Sabotage Wins</th>\n",
              "      <th>Crewmate Vote Wins</th>\n",
              "      <th>Crewmate Task Wins</th>\n",
              "      <th>Tasks Completion Rate</th>\n",
              "      <th>Game completion rate</th>\n",
              "      <th>Impostor win rate</th>\n",
              "      <th>Crewmate win rate</th>\n",
              "      <th>Total win rate</th>\n",
              "      <th>Ejection Rate</th>\n",
              "    </tr>\n",
              "  </thead>\n",
              "  <tbody>\n",
              "    <tr>\n",
              "      <th>0</th>\n",
              "      <td>jd</td>\n",
              "      <td>58</td>\n",
              "      <td>16</td>\n",
              "      <td>364</td>\n",
              "      <td>37</td>\n",
              "      <td>116</td>\n",
              "      <td>71</td>\n",
              "      <td>49</td>\n",
              "      <td>41</td>\n",
              "      <td>0</td>\n",
              "      <td>44</td>\n",
              "      <td>177</td>\n",
              "      <td>221</td>\n",
              "      <td>200</td>\n",
              "      <td>11</td>\n",
              "      <td>16</td>\n",
              "      <td>1</td>\n",
              "      <td>116</td>\n",
              "      <td>1</td>\n",
              "      <td>16.742081</td>\n",
              "      <td>90.497738</td>\n",
              "      <td>63.636364</td>\n",
              "      <td>66.101695</td>\n",
              "      <td>65.610860</td>\n",
              "      <td>18.552036</td>\n",
              "    </tr>\n",
              "    <tr>\n",
              "      <th>1</th>\n",
              "      <td>sagar</td>\n",
              "      <td>35</td>\n",
              "      <td>43</td>\n",
              "      <td>418</td>\n",
              "      <td>47</td>\n",
              "      <td>154</td>\n",
              "      <td>55</td>\n",
              "      <td>59</td>\n",
              "      <td>35</td>\n",
              "      <td>0</td>\n",
              "      <td>31</td>\n",
              "      <td>195</td>\n",
              "      <td>226</td>\n",
              "      <td>210</td>\n",
              "      <td>6</td>\n",
              "      <td>10</td>\n",
              "      <td>1</td>\n",
              "      <td>122</td>\n",
              "      <td>3</td>\n",
              "      <td>20.796460</td>\n",
              "      <td>92.920354</td>\n",
              "      <td>54.838710</td>\n",
              "      <td>64.102564</td>\n",
              "      <td>62.831858</td>\n",
              "      <td>15.486726</td>\n",
              "    </tr>\n",
              "    <tr>\n",
              "      <th>2</th>\n",
              "      <td>ashok</td>\n",
              "      <td>1</td>\n",
              "      <td>1</td>\n",
              "      <td>61</td>\n",
              "      <td>7</td>\n",
              "      <td>9</td>\n",
              "      <td>13</td>\n",
              "      <td>11</td>\n",
              "      <td>11</td>\n",
              "      <td>4</td>\n",
              "      <td>12</td>\n",
              "      <td>25</td>\n",
              "      <td>37</td>\n",
              "      <td>36</td>\n",
              "      <td>2</td>\n",
              "      <td>0</td>\n",
              "      <td>1</td>\n",
              "      <td>18</td>\n",
              "      <td>0</td>\n",
              "      <td>18.918919</td>\n",
              "      <td>97.297297</td>\n",
              "      <td>25.000000</td>\n",
              "      <td>72.000000</td>\n",
              "      <td>56.756757</td>\n",
              "      <td>29.729730</td>\n",
              "    </tr>\n",
              "    <tr>\n",
              "      <th>3</th>\n",
              "      <td>sannata</td>\n",
              "      <td>22</td>\n",
              "      <td>8</td>\n",
              "      <td>249</td>\n",
              "      <td>21</td>\n",
              "      <td>67</td>\n",
              "      <td>36</td>\n",
              "      <td>45</td>\n",
              "      <td>33</td>\n",
              "      <td>7</td>\n",
              "      <td>28</td>\n",
              "      <td>156</td>\n",
              "      <td>184</td>\n",
              "      <td>172</td>\n",
              "      <td>4</td>\n",
              "      <td>4</td>\n",
              "      <td>0</td>\n",
              "      <td>96</td>\n",
              "      <td>0</td>\n",
              "      <td>11.413043</td>\n",
              "      <td>93.478261</td>\n",
              "      <td>28.571429</td>\n",
              "      <td>61.538462</td>\n",
              "      <td>56.521739</td>\n",
              "      <td>17.934783</td>\n",
              "    </tr>\n",
              "    <tr>\n",
              "      <th>4</th>\n",
              "      <td>vt</td>\n",
              "      <td>9</td>\n",
              "      <td>6</td>\n",
              "      <td>139</td>\n",
              "      <td>13</td>\n",
              "      <td>38</td>\n",
              "      <td>35</td>\n",
              "      <td>25</td>\n",
              "      <td>20</td>\n",
              "      <td>12</td>\n",
              "      <td>31</td>\n",
              "      <td>103</td>\n",
              "      <td>134</td>\n",
              "      <td>120</td>\n",
              "      <td>6</td>\n",
              "      <td>4</td>\n",
              "      <td>1</td>\n",
              "      <td>61</td>\n",
              "      <td>3</td>\n",
              "      <td>9.701493</td>\n",
              "      <td>89.552239</td>\n",
              "      <td>35.483871</td>\n",
              "      <td>62.135922</td>\n",
              "      <td>55.970149</td>\n",
              "      <td>14.925373</td>\n",
              "    </tr>\n",
              "  </tbody>\n",
              "</table>\n",
              "</div>"
            ],
            "text/plain": [
              "  Player Name  Bodies Reported  ...  Total win rate  Ejection Rate\n",
              "0          jd               58  ...       65.610860      18.552036\n",
              "1       sagar               35  ...       62.831858      15.486726\n",
              "2       ashok                1  ...       56.756757      29.729730\n",
              "3     sannata               22  ...       56.521739      17.934783\n",
              "4          vt                9  ...       55.970149      14.925373\n",
              "\n",
              "[5 rows x 25 columns]"
            ]
          },
          "metadata": {
            "tags": []
          },
          "execution_count": 14
        }
      ]
    },
    {
      "cell_type": "code",
      "metadata": {
        "id": "c0m9Im7_r0o8"
      },
      "source": [
        "df[\"Tasks Completion Rate\"] = df[\"All Tasks Completed\"] * 100 / df[\"Games Started\"]\n",
        "df[\"Game completion rate\"] = df[\"Games Finished\"] * 100 / df[\"Games Started\"]\n",
        "df[\"Impostor win rate\"] = (df[\"Impostor Vote Wins\"] + df[\"Impostor Kill Wins\"] + df[\"Impostor Sabotage Wins\"]) * 100 / df[\"Times Impostor\"]\n",
        "df[\"Crewmate win rate\"] = (df[\"Crewmate Vote Wins\"] + df[\"Crewmate Task Wins\"]) * 100 / df[\"Times Crewmate\"]\n",
        "df[\"Total win rate\"] = (df[\"Crewmate Vote Wins\"] + df[\"Crewmate Task Wins\"] + df[\"Impostor Vote Wins\"] + df[\"Impostor Kill Wins\"] + df[\"Impostor Sabotage Wins\"]) * 100 / df[\"Games Started\"]\n",
        "df[\"Ejection Rate\"] = df[\"Times Ejected\"] * 100 / df[\"Games Started\"]\n",
        "\n",
        "df.sort_values(\"Total win rate\", ascending=False, inplace=True)\n",
        "df.reset_index(drop=True, inplace=True)"
      ],
      "execution_count": 15,
      "outputs": []
    },
    {
      "cell_type": "code",
      "metadata": {
        "id": "unAKoZ7hsZeh",
        "outputId": "758d5464-9c50-4091-82ac-c7e48572e9ef",
        "colab": {
          "base_uri": "https://localhost:8080/",
          "height": 426
        }
      },
      "source": [
        "df[[\"Player Name\", \"Total win rate\", \"Games Started\", \"Tasks Completion Rate\", \"Ejection Rate\"]]"
      ],
      "execution_count": 16,
      "outputs": [
        {
          "output_type": "execute_result",
          "data": {
            "text/html": [
              "<div>\n",
              "<style scoped>\n",
              "    .dataframe tbody tr th:only-of-type {\n",
              "        vertical-align: middle;\n",
              "    }\n",
              "\n",
              "    .dataframe tbody tr th {\n",
              "        vertical-align: top;\n",
              "    }\n",
              "\n",
              "    .dataframe thead th {\n",
              "        text-align: right;\n",
              "    }\n",
              "</style>\n",
              "<table border=\"1\" class=\"dataframe\">\n",
              "  <thead>\n",
              "    <tr style=\"text-align: right;\">\n",
              "      <th></th>\n",
              "      <th>Player Name</th>\n",
              "      <th>Total win rate</th>\n",
              "      <th>Games Started</th>\n",
              "      <th>Tasks Completion Rate</th>\n",
              "      <th>Ejection Rate</th>\n",
              "    </tr>\n",
              "  </thead>\n",
              "  <tbody>\n",
              "    <tr>\n",
              "      <th>0</th>\n",
              "      <td>jd</td>\n",
              "      <td>65.610860</td>\n",
              "      <td>221</td>\n",
              "      <td>16.742081</td>\n",
              "      <td>18.552036</td>\n",
              "    </tr>\n",
              "    <tr>\n",
              "      <th>1</th>\n",
              "      <td>sagar</td>\n",
              "      <td>62.831858</td>\n",
              "      <td>226</td>\n",
              "      <td>20.796460</td>\n",
              "      <td>15.486726</td>\n",
              "    </tr>\n",
              "    <tr>\n",
              "      <th>2</th>\n",
              "      <td>ashok</td>\n",
              "      <td>56.756757</td>\n",
              "      <td>37</td>\n",
              "      <td>18.918919</td>\n",
              "      <td>29.729730</td>\n",
              "    </tr>\n",
              "    <tr>\n",
              "      <th>3</th>\n",
              "      <td>sannata</td>\n",
              "      <td>56.521739</td>\n",
              "      <td>184</td>\n",
              "      <td>11.413043</td>\n",
              "      <td>17.934783</td>\n",
              "    </tr>\n",
              "    <tr>\n",
              "      <th>4</th>\n",
              "      <td>vt</td>\n",
              "      <td>55.970149</td>\n",
              "      <td>134</td>\n",
              "      <td>9.701493</td>\n",
              "      <td>14.925373</td>\n",
              "    </tr>\n",
              "    <tr>\n",
              "      <th>5</th>\n",
              "      <td>seedhe_maut</td>\n",
              "      <td>54.128440</td>\n",
              "      <td>109</td>\n",
              "      <td>31.192661</td>\n",
              "      <td>22.018349</td>\n",
              "    </tr>\n",
              "    <tr>\n",
              "      <th>6</th>\n",
              "      <td>gamerzoner</td>\n",
              "      <td>54.022989</td>\n",
              "      <td>87</td>\n",
              "      <td>16.091954</td>\n",
              "      <td>8.045977</td>\n",
              "    </tr>\n",
              "    <tr>\n",
              "      <th>7</th>\n",
              "      <td>larry</td>\n",
              "      <td>53.363229</td>\n",
              "      <td>223</td>\n",
              "      <td>19.730942</td>\n",
              "      <td>21.973094</td>\n",
              "    </tr>\n",
              "    <tr>\n",
              "      <th>8</th>\n",
              "      <td>don</td>\n",
              "      <td>45.714286</td>\n",
              "      <td>35</td>\n",
              "      <td>14.285714</td>\n",
              "      <td>22.857143</td>\n",
              "    </tr>\n",
              "    <tr>\n",
              "      <th>9</th>\n",
              "      <td>situ</td>\n",
              "      <td>45.652174</td>\n",
              "      <td>92</td>\n",
              "      <td>8.695652</td>\n",
              "      <td>17.391304</td>\n",
              "    </tr>\n",
              "    <tr>\n",
              "      <th>10</th>\n",
              "      <td>bot_ff</td>\n",
              "      <td>43.564356</td>\n",
              "      <td>101</td>\n",
              "      <td>29.702970</td>\n",
              "      <td>6.930693</td>\n",
              "    </tr>\n",
              "    <tr>\n",
              "      <th>11</th>\n",
              "      <td>bot_ff</td>\n",
              "      <td>43.564356</td>\n",
              "      <td>101</td>\n",
              "      <td>29.702970</td>\n",
              "      <td>6.930693</td>\n",
              "    </tr>\n",
              "  </tbody>\n",
              "</table>\n",
              "</div>"
            ],
            "text/plain": [
              "    Player Name  Total win rate  ...  Tasks Completion Rate  Ejection Rate\n",
              "0            jd       65.610860  ...              16.742081      18.552036\n",
              "1         sagar       62.831858  ...              20.796460      15.486726\n",
              "2         ashok       56.756757  ...              18.918919      29.729730\n",
              "3       sannata       56.521739  ...              11.413043      17.934783\n",
              "4            vt       55.970149  ...               9.701493      14.925373\n",
              "5   seedhe_maut       54.128440  ...              31.192661      22.018349\n",
              "6    gamerzoner       54.022989  ...              16.091954       8.045977\n",
              "7         larry       53.363229  ...              19.730942      21.973094\n",
              "8           don       45.714286  ...              14.285714      22.857143\n",
              "9          situ       45.652174  ...               8.695652      17.391304\n",
              "10       bot_ff       43.564356  ...              29.702970       6.930693\n",
              "11       bot_ff       43.564356  ...              29.702970       6.930693\n",
              "\n",
              "[12 rows x 5 columns]"
            ]
          },
          "metadata": {
            "tags": []
          },
          "execution_count": 16
        }
      ]
    },
    {
      "cell_type": "code",
      "metadata": {
        "id": "4L91m9r1sZ1G",
        "outputId": "ab192991-bc04-499d-b642-f685caab5065",
        "colab": {
          "base_uri": "https://localhost:8080/",
          "height": 453
        }
      },
      "source": [
        "row = df.loc[df[\"Player Name\"] == user_name]\n",
        "\n",
        "print(\"Info for Player\", row[\"Player Name\"].values[0])      \n",
        "print()\n",
        "print(\"Total win rate: {:.2f}%\".format(row[\"Total win rate\"].values[0]))\n",
        "print(\"Impostor win rate: {:.2f}%\".format(row[\"Impostor win rate\"].values[0]))\n",
        "print(\"Crewmate win rate: {:.2f}%\".format(row[\"Crewmate win rate\"].values[0]))\n",
        "print(\"All tasks completion rate: {:.2f}%\".format(row[\"Tasks Completion Rate\"].values[0]))\n",
        "print(\"---\\n\\n\")\n",
        "\n",
        "personal_winrate = row[\"Total win rate\"].values[0]\n",
        "\n",
        "mean, stdev = df[[\"Total win rate\"]].mean().values[0], df[[\"Total win rate\"]].std().values[0]\n",
        "\n",
        "fig, ax = plt.subplots(1)\n",
        "\n",
        "x = range(30, 81)\n",
        "y = norm.pdf(x, mean, stdev)\n",
        "ax.plot(x, y)\n",
        "ax.fill_between(x, 0, y, color=\"cyan\")\n",
        "ax.axvline(personal_winrate, color='red', linestyle='dashed', linewidth=1)\n",
        "ax.set_yticklabels([])\n",
        "ax.set_xlabel(\"Win Rate of Players\")\n",
        "\n",
        "plt.show()\n",
        "\n",
        "percentile = percentileofscore(df[[\"Total win rate\"]], personal_winrate)\n",
        "print(f\"You are better than {percentile:.0f}% of the players\")"
      ],
      "execution_count": 17,
      "outputs": [
        {
          "output_type": "stream",
          "text": [
            "Info for Player bot_ff\n",
            "\n",
            "Total win rate: 43.56%\n",
            "Impostor win rate: 52.63%\n",
            "Crewmate win rate: 41.46%\n",
            "All tasks completion rate: 29.70%\n",
            "---\n",
            "\n",
            "\n"
          ],
          "name": "stdout"
        },
        {
          "output_type": "display_data",
          "data": {
            "image/png": "[encoded data removed]",
            "text/plain": [
              "<Figure size 432x288 with 1 Axes>"
            ]
          },
          "metadata": {
            "tags": [],
            "needs_background": "light"
          }
        },
        {
          "output_type": "stream",
          "text": [
            "You are better than 12% of the players\n"
          ],
          "name": "stdout"
        }
      ]
    },
    {
      "cell_type": "markdown",
      "metadata": {
        "id": "9dEw065aIZyo"
      },
      "source": [
        "## 4. Host a temporary web service"
      ]
    },
    {
      "cell_type": "code",
      "metadata": {
        "id": "sBDwjCcnv7xm",
        "outputId": "ca603a50-9b92-4712-a733-c5840fbd6d68",
        "colab": {
          "base_uri": "https://localhost:8080/",
          "height": 34
        }
      },
      "source": [
        "%%writefile app.py\n",
        "\n",
        "import os\n",
        "import cv2\n",
        "import easyocr\n",
        "import numpy as np\n",
        "import pandas as pd\n",
        "import streamlit as st\n",
        "import matplotlib.pyplot as plt\n",
        "\n",
        "\n",
        "from glob import glob\n",
        "from enum import Enum\n",
        "from typing import Union\n",
        "from io import BytesIO, StringIO\n",
        "from scipy.stats import norm, percentileofscore\n",
        "\n",
        "st.set_option(\"deprecation.showfileUploaderEncoding\", False)\n",
        "\n",
        "FILE_TYPES = [\"png\", \"jpeg\", \"jpg\"]\n",
        "reader = easyocr.Reader([\"en\"])\n",
        "PAGE_CONFIG = {\"page_title\": \"StColab.io\", \"layout\": \"centered\"}\n",
        "st.beta_set_page_config(**PAGE_CONFIG)\n",
        "DATA_DIR = \"/content/AmongUs_StatsChecker\"\n",
        "\n",
        "\n",
        "class FileType(Enum):\n",
        "    IMAGE = \"Image\"\n",
        "\n",
        "\n",
        "def get_file_type(file: Union[BytesIO, StringIO]) -> FileType:\n",
        "    if isinstance(file, BytesIO):\n",
        "        return FileType.IMAGE\n",
        "\n",
        "\n",
        "def get_segment_crop(img, tol=0, mask=None):\n",
        "    if mask is None:\n",
        "        mask = img > tol\n",
        "    return img[np.ix_(mask.any(1), mask.any(0))]\n",
        "\n",
        "\n",
        "def preprocess_image(user_name, img_path):\n",
        "    img = cv2.imread(img_path)\n",
        "    gray = cv2.cvtColor(img, cv2.COLOR_BGR2GRAY)\n",
        "\n",
        "    thresh_inv = cv2.threshold(gray, 0, 255, cv2.THRESH_OTSU)[1]\n",
        "\n",
        "    # Blur the image\n",
        "    blur = cv2.GaussianBlur(thresh_inv, (1, 1), 0)\n",
        "\n",
        "    thresh = cv2.threshold(blur, 0, 255, cv2.THRESH_BINARY + cv2.THRESH_OTSU)[1]\n",
        "\n",
        "    # find contours\n",
        "    contours = cv2.findContours(thresh, cv2.RETR_EXTERNAL, cv2.CHAIN_APPROX_SIMPLE)[0]\n",
        "\n",
        "    mask = np.ones(img.shape[:2], dtype=\"uint8\") * 255\n",
        "    for c in contours:\n",
        "        # get the bounding rect\n",
        "        x, y, w, h = cv2.boundingRect(c)\n",
        "        if w * h > 0.2 * img.shape[0] * img.shape[1]:\n",
        "            cv2.rectangle(mask, (x, y), (x + w, y + h), (0, 0, 255), -1)\n",
        "\n",
        "    res_final = cv2.bitwise_and(img, img, mask=cv2.bitwise_not(mask))\n",
        "    mask_out = cv2.subtract(cv2.bitwise_not(mask), thresh_inv)\n",
        "\n",
        "    result = get_segment_crop(img, mask=cv2.bitwise_not(mask))\n",
        "\n",
        "    width = 600\n",
        "    height = 650\n",
        "    dim = (width, height)\n",
        "\n",
        "    # resize image\n",
        "    result = cv2.resize(result, dim, interpolation=cv2.INTER_AREA)\n",
        "\n",
        "    result = result[:-30, int(0.666 * result.shape[1]) :]\n",
        "\n",
        "    # cv2_imshow(result)\n",
        "    cv2.imwrite(\"processed_images/\" + user_name + \".jpeg\", result)\n",
        "\n",
        "\n",
        "def get_reply(user_name, img_path):\n",
        "\n",
        "    preprocess_image(user_name, img_path)\n",
        "\n",
        "    result = reader.readtext(\n",
        "        \"processed_images/\" + user_name + \".jpeg\",\n",
        "        decoder=\"greedy\",\n",
        "        detail=0,\n",
        "        text_threshold=0.6,\n",
        "        low_text=0.339,\n",
        "        mag_ratio=2.5\n",
        "    )\n",
        "\n",
        "    stats = [user_name]\n",
        "    for r in result:\n",
        "        if r.isnumeric():\n",
        "            stats.append(int(r))\n",
        "\n",
        "    assert len(stats) == 19\n",
        "    stats = stats + list(np.zeros(6, dtype=\"int\"))\n",
        "    df = pd.read_csv(os.path.join(DATA_DIR, \"info.csv\"))\n",
        "    df = df.append(pd.Series(stats, df.columns), ignore_index=True)\n",
        "\n",
        "    df[\"Tasks Completion Rate\"] = df[\"All Tasks Completed\"] * 100 / df[\"Games Started\"]\n",
        "    df[\"Game completion rate\"] = df[\"Games Finished\"] * 100 / df[\"Games Started\"]\n",
        "    df[\"Impostor win rate\"] = (\n",
        "        (\n",
        "            df[\"Impostor Vote Wins\"]\n",
        "            + df[\"Impostor Kill Wins\"]\n",
        "            + df[\"Impostor Sabotage Wins\"]\n",
        "        )\n",
        "        * 100\n",
        "        / df[\"Times Impostor\"]\n",
        "    )\n",
        "    df[\"Crewmate win rate\"] = (\n",
        "        (df[\"Crewmate Vote Wins\"] + df[\"Crewmate Task Wins\"])\n",
        "        * 100\n",
        "        / df[\"Times Crewmate\"]\n",
        "    )\n",
        "    df[\"Total win rate\"] = (\n",
        "        (\n",
        "            df[\"Crewmate Vote Wins\"]\n",
        "            + df[\"Crewmate Task Wins\"]\n",
        "            + df[\"Impostor Vote Wins\"]\n",
        "            + df[\"Impostor Kill Wins\"]\n",
        "            + df[\"Impostor Sabotage Wins\"]\n",
        "        )\n",
        "        * 100\n",
        "        / df[\"Games Started\"]\n",
        "    )\n",
        "    df[\"Ejection Rate\"] = df[\"Times Ejected\"] * 100 / df[\"Games Started\"]\n",
        "\n",
        "    df.sort_values(\"Total win rate\", ascending=False, inplace=True)\n",
        "    df.reset_index(drop=True, inplace=True)\n",
        "\n",
        "    row = df.loc[df[\"Player Name\"] == user_name]\n",
        "\n",
        "    \"Info for Player\", row[\"Player Name\"].values[0]\n",
        "\n",
        "    \"Total win rate:\", round(row[\"Total win rate\"].values[0], 2)\n",
        "\n",
        "    \"Impostor win rate:\", round(row[\"Impostor win rate\"].values[0], 2)\n",
        "\n",
        "    \"Crewmate win rate:\", round(row[\"Crewmate win rate\"].values[0], 2)\n",
        "\n",
        "    \"All tasks completion rate:\", round(row[\"Tasks Completion Rate\"].values[0], 2)\n",
        "\n",
        "    st.text(\"---\\n\\n\")\n",
        "\n",
        "    personal_winrate = row[\"Total win rate\"].values[0]\n",
        "\n",
        "    mean, stdev = (\n",
        "        df[[\"Total win rate\"]].mean().values[0],\n",
        "        df[[\"Total win rate\"]].std().values[0],\n",
        "    )\n",
        "\n",
        "    fig, ax = plt.subplots(1)\n",
        "\n",
        "    x = range(30, 81)\n",
        "    y = norm.pdf(x, mean, stdev)\n",
        "    ax.plot(x, y)\n",
        "    ax.fill_between(x, 0, y, color=\"cyan\")\n",
        "    ax.axvline(personal_winrate, color=\"red\", linestyle=\"dashed\", linewidth=1)\n",
        "    ax.set_yticklabels([])\n",
        "    ax.set_xlabel(\"Win Rate of Players\")\n",
        "\n",
        "    st.pyplot(fig, figsize=(10,10))\n",
        "\n",
        "    percentile = percentileofscore(df[[\"Total win rate\"]], personal_winrate)\n",
        "\n",
        "    \"You are better than\", round(percentile), \"% of the players\"\n",
        "\n",
        "\n",
        "def main():\n",
        "    st.title(\"Among Us Stats Checker\")\n",
        "    menu = [\"Home\", \"Leaderboard\", \"About\"]\n",
        "    choice = st.sidebar.selectbox(\"Menu\", menu)\n",
        "    if choice == \"Home\":\n",
        "        user_name = st.text_input(\"Username\", \"\")\n",
        "        file = st.file_uploader(\"Upload file\", type=FILE_TYPES)\n",
        "        show_file = st.empty()\n",
        "        if not file:\n",
        "            show_file.info(\"Please upload a file of type: \" + \", \".join(FILE_TYPES))\n",
        "            return\n",
        "\n",
        "        file_type = get_file_type(file)\n",
        "\n",
        "        img_path = user_name + \".jpeg\"\n",
        "\n",
        "        f = open(img_path, \"wb\")\n",
        "        f.write(file.getvalue())\n",
        "\n",
        "        file.close()\n",
        "        f.close()\n",
        "\n",
        "        get_reply(user_name, img_path)\n",
        "\n",
        "\n",
        "if __name__ == \"__main__\":\n",
        "    main()"
      ],
      "execution_count": 25,
      "outputs": [
        {
          "output_type": "stream",
          "text": [
            "Overwriting app.py\n"
          ],
          "name": "stdout"
        }
      ]
    },
    {
      "cell_type": "code",
      "metadata": {
        "id": "eXvVM-Z9v8-w"
      },
      "source": [
        "!streamlit run app.py &>/dev/null&"
      ],
      "execution_count": 19,
      "outputs": []
    },
    {
      "cell_type": "code",
      "metadata": {
        "id": "PLfPrxc3wAg9",
        "outputId": "d37338bc-7e76-44e5-f594-104a5c3c9dd2",
        "colab": {
          "base_uri": "https://localhost:8080/",
          "height": 35
        }
      },
      "source": [
        "from pyngrok import ngrok\n",
        "\n",
        "public_url = ngrok.connect(port='8501')\n",
        "public_url"
      ],
      "execution_count": 20,
      "outputs": [
        {
          "output_type": "stream",
          "text": [
            ""
          ],
          "name": "stdout"
        },
        {
          "output_type": "execute_result",
          "data": {
            "application/vnd.google.colaboratory.intrinsic+json": {
              "type": "string"
            },
            "text/plain": [
              "'http://7e17913194aa.ngrok.io'"
            ]
          },
          "metadata": {
            "tags": []
          },
          "execution_count": 20
        }
      ]
    },
    {
      "cell_type": "markdown",
      "metadata": {
        "id": "seOhvnRlNcNu"
      },
      "source": [
        "**Note: Open the hosted web service using above link**"
      ]
    }
  ]
}